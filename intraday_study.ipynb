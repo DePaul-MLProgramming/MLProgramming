{
 "cells": [
  {
   "cell_type": "code",
   "execution_count": 1,
   "id": "584dc965-4f8b-4d5f-85c9-025fa5bd83aa",
   "metadata": {},
   "outputs": [],
   "source": [
    "import pandas as pd\n",
    "import numpy as np\n",
    "import matplotlib.pyplot as plt"
   ]
  },
  {
   "cell_type": "markdown",
   "id": "fe17efde-b9f3-4206-bfb8-4b0824b645f7",
   "metadata": {},
   "source": [
    "# Import data"
   ]
  },
  {
   "cell_type": "code",
   "execution_count": 2,
   "id": "37b8a91c-f92b-46e8-b0b8-fac76f08a3ae",
   "metadata": {},
   "outputs": [],
   "source": [
    "intraday_data = pd.read_csv('Data/5m_SPY')"
   ]
  },
  {
   "cell_type": "code",
   "execution_count": 3,
   "id": "fd836e8c-4f1c-416b-8973-c6f555997dee",
   "metadata": {},
   "outputs": [
    {
     "data": {
      "text/plain": [
       "(4645, 7)"
      ]
     },
     "execution_count": 3,
     "metadata": {},
     "output_type": "execute_result"
    }
   ],
   "source": [
    "intraday_data.shape"
   ]
  },
  {
   "cell_type": "code",
   "execution_count": 4,
   "id": "4be5d65f-302e-4885-b428-94c825028129",
   "metadata": {},
   "outputs": [
    {
     "data": {
      "text/html": [
       "<div>\n",
       "<style scoped>\n",
       "    .dataframe tbody tr th:only-of-type {\n",
       "        vertical-align: middle;\n",
       "    }\n",
       "\n",
       "    .dataframe tbody tr th {\n",
       "        vertical-align: top;\n",
       "    }\n",
       "\n",
       "    .dataframe thead th {\n",
       "        text-align: right;\n",
       "    }\n",
       "</style>\n",
       "<table border=\"1\" class=\"dataframe\">\n",
       "  <thead>\n",
       "    <tr style=\"text-align: right;\">\n",
       "      <th></th>\n",
       "      <th>Datetime</th>\n",
       "      <th>Open</th>\n",
       "      <th>High</th>\n",
       "      <th>Low</th>\n",
       "      <th>Close</th>\n",
       "      <th>Adj Close</th>\n",
       "      <th>Volume</th>\n",
       "    </tr>\n",
       "  </thead>\n",
       "  <tbody>\n",
       "    <tr>\n",
       "      <th>0</th>\n",
       "      <td>2021-11-17 09:30:00-05:00</td>\n",
       "      <td>469.000000</td>\n",
       "      <td>469.040009</td>\n",
       "      <td>468.450012</td>\n",
       "      <td>468.519989</td>\n",
       "      <td>468.519989</td>\n",
       "      <td>2523699</td>\n",
       "    </tr>\n",
       "    <tr>\n",
       "      <th>1</th>\n",
       "      <td>2021-11-17 09:35:00-05:00</td>\n",
       "      <td>468.529999</td>\n",
       "      <td>468.540009</td>\n",
       "      <td>468.160004</td>\n",
       "      <td>468.320007</td>\n",
       "      <td>468.320007</td>\n",
       "      <td>836314</td>\n",
       "    </tr>\n",
       "    <tr>\n",
       "      <th>2</th>\n",
       "      <td>2021-11-17 09:40:00-05:00</td>\n",
       "      <td>468.320007</td>\n",
       "      <td>468.524994</td>\n",
       "      <td>468.160004</td>\n",
       "      <td>468.450012</td>\n",
       "      <td>468.450012</td>\n",
       "      <td>577620</td>\n",
       "    </tr>\n",
       "    <tr>\n",
       "      <th>3</th>\n",
       "      <td>2021-11-17 09:45:00-05:00</td>\n",
       "      <td>468.450012</td>\n",
       "      <td>468.640015</td>\n",
       "      <td>468.130005</td>\n",
       "      <td>468.135010</td>\n",
       "      <td>468.135010</td>\n",
       "      <td>865588</td>\n",
       "    </tr>\n",
       "    <tr>\n",
       "      <th>4</th>\n",
       "      <td>2021-11-17 09:50:00-05:00</td>\n",
       "      <td>468.135010</td>\n",
       "      <td>468.135010</td>\n",
       "      <td>467.579987</td>\n",
       "      <td>467.670013</td>\n",
       "      <td>467.670013</td>\n",
       "      <td>951646</td>\n",
       "    </tr>\n",
       "  </tbody>\n",
       "</table>\n",
       "</div>"
      ],
      "text/plain": [
       "                    Datetime        Open        High         Low       Close  \\\n",
       "0  2021-11-17 09:30:00-05:00  469.000000  469.040009  468.450012  468.519989   \n",
       "1  2021-11-17 09:35:00-05:00  468.529999  468.540009  468.160004  468.320007   \n",
       "2  2021-11-17 09:40:00-05:00  468.320007  468.524994  468.160004  468.450012   \n",
       "3  2021-11-17 09:45:00-05:00  468.450012  468.640015  468.130005  468.135010   \n",
       "4  2021-11-17 09:50:00-05:00  468.135010  468.135010  467.579987  467.670013   \n",
       "\n",
       "    Adj Close   Volume  \n",
       "0  468.519989  2523699  \n",
       "1  468.320007   836314  \n",
       "2  468.450012   577620  \n",
       "3  468.135010   865588  \n",
       "4  467.670013   951646  "
      ]
     },
     "execution_count": 4,
     "metadata": {},
     "output_type": "execute_result"
    }
   ],
   "source": [
    "intraday_data.head()"
   ]
  },
  {
   "cell_type": "markdown",
   "id": "d4be528e-09a0-4fa9-918d-d6bd532067c4",
   "metadata": {},
   "source": [
    "# Change of time period of n\n",
    "\n",
    "To start we will calcualte the change over n time period.\n",
    "\n",
    "We will use: \n",
    "$change_n = \\dfrac{Close_n - Open_i-n}{Open_i-n}$\n",
    "\n",
    "Where $i$ is the current period.  So change_0 is the change of the current time period, change_5 is the change starting from 5 periods ago to the current close.\n",
    "\n",
    "### Lets look at change_0"
   ]
  },
  {
   "cell_type": "code",
   "execution_count": null,
   "id": "8b9229f2-a65c-4e23-889f-2afa9cadfa13",
   "metadata": {},
   "outputs": [],
   "source": [
    "intraday_data"
   ]
  }
 ],
 "metadata": {
  "kernelspec": {
   "display_name": "Python 3 (ipykernel)",
   "language": "python",
   "name": "python3"
  },
  "language_info": {
   "codemirror_mode": {
    "name": "ipython",
    "version": 3
   },
   "file_extension": ".py",
   "mimetype": "text/x-python",
   "name": "python",
   "nbconvert_exporter": "python",
   "pygments_lexer": "ipython3",
   "version": "3.10.2"
  }
 },
 "nbformat": 4,
 "nbformat_minor": 5
}
