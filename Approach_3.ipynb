{
 "cells": [
  {
   "cell_type": "markdown",
   "id": "622009a4-c1d0-4c53-8424-7d5f3e397da4",
   "metadata": {
    "tags": []
   },
   "source": [
    "# <center>SPY Classification with Intraday Data Based Variables</center>"
   ]
  },
  {
   "cell_type": "markdown",
   "id": "864bc2a0-ab88-49a6-a26e-e4e94a21d912",
   "metadata": {
    "tags": []
   },
   "source": [
    "For this study, we are going to use classification to assign 'Buy', 'Flat', or 'Sell' to each row of data.\n",
    "\n",
    "The data is one day of SPY values.\n",
    "\n",
    "The difference of this study vs my peers is that I am focusing on volume and exploring its value in classifying the data. \n",
    "This study includes values that are derived from intraday data, in addition to daily data.  \n",
    "In fact, the primary focus for this study are the variables that are derived from the intraday data. "
   ]
  },
  {
   "cell_type": "code",
   "execution_count": 1,
   "id": "e89132ba-7d02-4469-a906-561064bdb6af",
   "metadata": {},
   "outputs": [],
   "source": [
    "import pandas as pd\n",
    "import numpy as np\n",
    "import matplotlib.pyplot as plt"
   ]
  },
  {
   "cell_type": "code",
   "execution_count": 2,
   "id": "f691f05b-0b10-4aa8-a301-25acc85f80eb",
   "metadata": {},
   "outputs": [],
   "source": [
    "# This import is a custom module we created to support our analysis.\n",
    "from mlUtilities import ml_utils, data_utils"
   ]
  },
  {
   "cell_type": "code",
   "execution_count": 3,
   "id": "b4a7f612-0998-4721-98d2-2541bf74ef68",
   "metadata": {},
   "outputs": [],
   "source": [
    "from importlib import reload"
   ]
  },
  {
   "cell_type": "code",
   "execution_count": 4,
   "id": "1bad697b-a313-44a9-b063-ca335ac259a5",
   "metadata": {},
   "outputs": [],
   "source": [
    "import warnings\n",
    "warnings.filterwarnings('ignore')"
   ]
  },
  {
   "cell_type": "markdown",
   "id": "aea9c2aa-7c88-4937-aba1-60c6857fdb8e",
   "metadata": {},
   "source": [
    "# Load Data\n",
    "\n",
    "<hr size='3'>"
   ]
  },
  {
   "cell_type": "markdown",
   "id": "1d8f819a-ec52-4b6d-989d-698726686496",
   "metadata": {},
   "source": [
    "Our primary dataframes will be i_data and d_data--i for intraday and d for daily.\n",
    "Both variables are pandas DataFrame objects"
   ]
  },
  {
   "cell_type": "markdown",
   "id": "f2cf3fba-4b64-4a60-863e-76e58771418c",
   "metadata": {},
   "source": [
    "### Intraday Data Load and Preparation"
   ]
  },
  {
   "cell_type": "code",
   "execution_count": 5,
   "id": "878ba396-13e2-4cf8-8e46-606b40c0145b",
   "metadata": {},
   "outputs": [],
   "source": [
    "i_data = pd.read_csv('Data/5m_SPY')"
   ]
  },
  {
   "cell_type": "code",
   "execution_count": 6,
   "id": "cc68105b-7993-49bc-abaa-913c9783eb5f",
   "metadata": {},
   "outputs": [],
   "source": [
    "# We perform the feature engineering with this function call\n",
    "i_data = data_utils.transform_data(i_data, period='intraday')"
   ]
  },
  {
   "cell_type": "code",
   "execution_count": 7,
   "id": "835f9cf8-e717-435a-af6e-ec13db2b2c32",
   "metadata": {},
   "outputs": [
    {
     "data": {
      "text/html": [
       "<div>\n",
       "<style scoped>\n",
       "    .dataframe tbody tr th:only-of-type {\n",
       "        vertical-align: middle;\n",
       "    }\n",
       "\n",
       "    .dataframe tbody tr th {\n",
       "        vertical-align: top;\n",
       "    }\n",
       "\n",
       "    .dataframe thead th {\n",
       "        text-align: right;\n",
       "    }\n",
       "</style>\n",
       "<table border=\"1\" class=\"dataframe\">\n",
       "  <thead>\n",
       "    <tr style=\"text-align: right;\">\n",
       "      <th></th>\n",
       "      <th>Datetime</th>\n",
       "      <th>Open</th>\n",
       "      <th>High</th>\n",
       "      <th>Low</th>\n",
       "      <th>Close</th>\n",
       "      <th>Adj Close</th>\n",
       "      <th>Volume</th>\n",
       "      <th>Vol_Direction</th>\n",
       "      <th>Dir_to_Vol</th>\n",
       "      <th>Vol_Tide</th>\n",
       "    </tr>\n",
       "  </thead>\n",
       "  <tbody>\n",
       "    <tr>\n",
       "      <th>0</th>\n",
       "      <td>2021-11-17 09:30:00-05:00</td>\n",
       "      <td>469.000000</td>\n",
       "      <td>469.040009</td>\n",
       "      <td>468.450012</td>\n",
       "      <td>468.519989</td>\n",
       "      <td>468.519989</td>\n",
       "      <td>0.737352</td>\n",
       "      <td>NaN</td>\n",
       "      <td>NaN</td>\n",
       "      <td>NaN</td>\n",
       "    </tr>\n",
       "    <tr>\n",
       "      <th>1</th>\n",
       "      <td>2021-11-17 09:35:00-05:00</td>\n",
       "      <td>468.529999</td>\n",
       "      <td>468.540009</td>\n",
       "      <td>468.160004</td>\n",
       "      <td>468.320007</td>\n",
       "      <td>468.320007</td>\n",
       "      <td>0.244347</td>\n",
       "      <td>-1.0</td>\n",
       "      <td>-0.244347</td>\n",
       "      <td>-0.244347</td>\n",
       "    </tr>\n",
       "    <tr>\n",
       "      <th>2</th>\n",
       "      <td>2021-11-17 09:40:00-05:00</td>\n",
       "      <td>468.320007</td>\n",
       "      <td>468.524994</td>\n",
       "      <td>468.160004</td>\n",
       "      <td>468.450012</td>\n",
       "      <td>468.450012</td>\n",
       "      <td>0.168764</td>\n",
       "      <td>1.0</td>\n",
       "      <td>0.168764</td>\n",
       "      <td>-0.075583</td>\n",
       "    </tr>\n",
       "    <tr>\n",
       "      <th>3</th>\n",
       "      <td>2021-11-17 09:45:00-05:00</td>\n",
       "      <td>468.450012</td>\n",
       "      <td>468.640015</td>\n",
       "      <td>468.130005</td>\n",
       "      <td>468.135010</td>\n",
       "      <td>468.135010</td>\n",
       "      <td>0.252900</td>\n",
       "      <td>-1.0</td>\n",
       "      <td>-0.252900</td>\n",
       "      <td>-0.328483</td>\n",
       "    </tr>\n",
       "    <tr>\n",
       "      <th>4</th>\n",
       "      <td>2021-11-17 09:50:00-05:00</td>\n",
       "      <td>468.135010</td>\n",
       "      <td>468.135010</td>\n",
       "      <td>467.579987</td>\n",
       "      <td>467.670013</td>\n",
       "      <td>467.670013</td>\n",
       "      <td>0.278044</td>\n",
       "      <td>-1.0</td>\n",
       "      <td>-0.278044</td>\n",
       "      <td>-0.606527</td>\n",
       "    </tr>\n",
       "  </tbody>\n",
       "</table>\n",
       "</div>"
      ],
      "text/plain": [
       "                   Datetime        Open        High         Low       Close  \\\n",
       "0 2021-11-17 09:30:00-05:00  469.000000  469.040009  468.450012  468.519989   \n",
       "1 2021-11-17 09:35:00-05:00  468.529999  468.540009  468.160004  468.320007   \n",
       "2 2021-11-17 09:40:00-05:00  468.320007  468.524994  468.160004  468.450012   \n",
       "3 2021-11-17 09:45:00-05:00  468.450012  468.640015  468.130005  468.135010   \n",
       "4 2021-11-17 09:50:00-05:00  468.135010  468.135010  467.579987  467.670013   \n",
       "\n",
       "    Adj Close    Volume  Vol_Direction  Dir_to_Vol  Vol_Tide  \n",
       "0  468.519989  0.737352            NaN         NaN       NaN  \n",
       "1  468.320007  0.244347           -1.0   -0.244347 -0.244347  \n",
       "2  468.450012  0.168764            1.0    0.168764 -0.075583  \n",
       "3  468.135010  0.252900           -1.0   -0.252900 -0.328483  \n",
       "4  467.670013  0.278044           -1.0   -0.278044 -0.606527  "
      ]
     },
     "execution_count": 7,
     "metadata": {},
     "output_type": "execute_result"
    }
   ],
   "source": [
    "i_data.head()"
   ]
  },
  {
   "cell_type": "markdown",
   "id": "707590f8-0e0c-4f18-aa40-dcd6fc12e774",
   "metadata": {},
   "source": [
    "This End Of Day (EOD) value is the variable we wanted to derive from our intraday data."
   ]
  },
  {
   "cell_type": "code",
   "execution_count": 8,
   "id": "9faab9aa-5865-4644-9820-e04d6f8df48b",
   "metadata": {},
   "outputs": [],
   "source": [
    "eod_vol_tide = i_data.groupby([i_data.Datetime.dt.date])['Dir_to_Vol'].sum()"
   ]
  },
  {
   "cell_type": "markdown",
   "id": "8bab15ae-aa66-474d-bf70-fd7c4445466b",
   "metadata": {
    "tags": []
   },
   "source": [
    "# Daily Data Load and Preparation"
   ]
  },
  {
   "cell_type": "code",
   "execution_count": 9,
   "id": "82eb9de8-608b-4d9c-800d-44bc777dcc0b",
   "metadata": {
    "tags": []
   },
   "outputs": [],
   "source": [
    "d_data = pd.read_csv('Data/1d_SPY')\n",
    "d_data['Volume'] = data_utils.min_max_normalize(d_data['Volume'], 0, 5)\n",
    "d_data = data_utils.transform_data(d_data, eod_tide=eod_vol_tide, create_targets=True)\n",
    "short_d_data = data_utils.transform_tide(d_data, eod_tide=eod_vol_tide)"
   ]
  },
  {
   "cell_type": "markdown",
   "id": "de27beec-559b-45c8-ac46-1d52a5681f46",
   "metadata": {},
   "source": [
    "Drop na rows."
   ]
  },
  {
   "cell_type": "code",
   "execution_count": 10,
   "id": "dcf5614c-36bf-42da-a65d-9304bc75d07b",
   "metadata": {},
   "outputs": [],
   "source": [
    "short_d_data.dropna(inplace=True)"
   ]
  },
  {
   "cell_type": "markdown",
   "id": "9541c3d6-8a18-4643-a7a4-b1053f5a29c8",
   "metadata": {},
   "source": [
    " Lets drop the columns that will are not being tested."
   ]
  },
  {
   "cell_type": "code",
   "execution_count": 11,
   "id": "838c024a-13cb-4516-9e08-98eab31fad92",
   "metadata": {},
   "outputs": [],
   "source": [
    "target = short_d_data.pop('Target')\n",
    "short_d_data.set_index('Date', inplace=True)\n",
    "study_columns = ['Volume', 'Directional_Vol', 'EOD_Vol_Tide',\n",
    "                 'Vol_Adv_Dec', 'Tide_Adv_Dec', 'Vol_Diff',\n",
    "                 'Change_1', 'Change_3', 'Change_5', 'Change_10'\n",
    "                ]\n",
    "short_d_data = short_d_data[study_columns]"
   ]
  },
  {
   "cell_type": "markdown",
   "id": "f9a7aca7-8983-4140-aaef-776d4a0bc0c1",
   "metadata": {},
   "source": [
    "## Feature Engineering\n",
    "\n",
    "The following features were engineered.  \n",
    "This are features that I created from scratch.  \n",
    "I do not know why the jupyter notebook is not converting the latex notation.\n",
    "\n",
    "-     Normalize the volume using min max 0 to 5\n",
    "-     $i$= day\n",
    "-     $m$ = 1 period within day $i$\n",
    "-     $k$ = number of five minute periods in a day $i$\n",
    "-     Vol\\_Direction$_i$ = $ \\dfrac{Change\\_n_i}{|Change\\_n_i|} $\n",
    "-     Directional Vol = Vol\\_Direction * Volume\n",
    "-     Vol Tide$_k$ = $\\sum_m^k DirToVol_{m}$ \n",
    "-     EOD Vol Tide$_i$ = $\\sum_m^{k} VolTide_m$\n",
    "-     Vol Adv Dec = cumsum(DirectionalVol)\n",
    "-     Tide Adv Dec = cumsum(EODVolTide)\n",
    "-     Vol Diff = (Vol Adv Dec) - (Tide Adv Dec) \n",
    "-     Change\\_n = $\\dfrac{Close_i - Close_{i-n}}{Close_i}$"
   ]
  },
  {
   "cell_type": "markdown",
   "id": "71be0b23-762d-4fc0-acb0-38e73bc03905",
   "metadata": {
    "tags": []
   },
   "source": [
    "### Thoughts on the use of intraday data\n",
    "\n",
    "The focus of this study was to see the impact of pulling the volume \"tide\" from intraday data and comparing \n",
    "it to the overall volume for the day.  \n",
    "The thinking behind it is that during a trading day, the price of a stock can move up and down, much like a tide.  \n",
    "The strength of that tide is determined by the number of shares (volume) traded over a specific time period.\n",
    "The tide is then taken and placed into a daily data frame and compared with other variables derived from the daily database."
   ]
  },
  {
   "cell_type": "markdown",
   "id": "4ca20c7e-b18e-4a78-9696-c5f6fb91eaa7",
   "metadata": {},
   "source": [
    "# Final Data Set"
   ]
  },
  {
   "cell_type": "code",
   "execution_count": 25,
   "id": "499f190f-b27d-4623-b1af-705e4f013b44",
   "metadata": {},
   "outputs": [
    {
     "data": {
      "text/html": [
       "<div>\n",
       "<style scoped>\n",
       "    .dataframe tbody tr th:only-of-type {\n",
       "        vertical-align: middle;\n",
       "    }\n",
       "\n",
       "    .dataframe tbody tr th {\n",
       "        vertical-align: top;\n",
       "    }\n",
       "\n",
       "    .dataframe thead th {\n",
       "        text-align: right;\n",
       "    }\n",
       "</style>\n",
       "<table border=\"1\" class=\"dataframe\">\n",
       "  <thead>\n",
       "    <tr style=\"text-align: right;\">\n",
       "      <th></th>\n",
       "      <th>Volume</th>\n",
       "      <th>Directional_Vol</th>\n",
       "      <th>EOD_Vol_Tide</th>\n",
       "      <th>Vol_Adv_Dec</th>\n",
       "      <th>Tide_Adv_Dec</th>\n",
       "      <th>Vol_Diff</th>\n",
       "      <th>Change_1</th>\n",
       "      <th>Change_3</th>\n",
       "      <th>Change_5</th>\n",
       "      <th>Change_10</th>\n",
       "    </tr>\n",
       "    <tr>\n",
       "      <th>Date</th>\n",
       "      <th></th>\n",
       "      <th></th>\n",
       "      <th></th>\n",
       "      <th></th>\n",
       "      <th></th>\n",
       "      <th></th>\n",
       "      <th></th>\n",
       "      <th></th>\n",
       "      <th></th>\n",
       "      <th></th>\n",
       "    </tr>\n",
       "  </thead>\n",
       "  <tbody>\n",
       "    <tr>\n",
       "      <th>2022-02-04</th>\n",
       "      <td>1.318261</td>\n",
       "      <td>1.318261</td>\n",
       "      <td>-0.574958</td>\n",
       "      <td>-2.839388</td>\n",
       "      <td>-7.177636</td>\n",
       "      <td>-2.264430</td>\n",
       "      <td>0.004702</td>\n",
       "      <td>-0.009383</td>\n",
       "      <td>0.015273</td>\n",
       "      <td>0.024476</td>\n",
       "    </tr>\n",
       "    <tr>\n",
       "      <th>2022-02-07</th>\n",
       "      <td>0.863057</td>\n",
       "      <td>-0.863057</td>\n",
       "      <td>-3.657778</td>\n",
       "      <td>-3.702445</td>\n",
       "      <td>-10.835414</td>\n",
       "      <td>-0.044667</td>\n",
       "      <td>-0.003209</td>\n",
       "      <td>-0.022062</td>\n",
       "      <td>-0.005890</td>\n",
       "      <td>0.016870</td>\n",
       "    </tr>\n",
       "    <tr>\n",
       "      <th>2022-02-08</th>\n",
       "      <td>0.816533</td>\n",
       "      <td>0.816533</td>\n",
       "      <td>0.686838</td>\n",
       "      <td>-2.885912</td>\n",
       "      <td>-10.148576</td>\n",
       "      <td>-3.572750</td>\n",
       "      <td>0.008228</td>\n",
       "      <td>0.009718</td>\n",
       "      <td>-0.004438</td>\n",
       "      <td>0.037908</td>\n",
       "    </tr>\n",
       "    <tr>\n",
       "      <th>2022-02-09</th>\n",
       "      <td>0.972171</td>\n",
       "      <td>0.972171</td>\n",
       "      <td>3.437074</td>\n",
       "      <td>-1.913742</td>\n",
       "      <td>-6.711502</td>\n",
       "      <td>-5.350816</td>\n",
       "      <td>0.014636</td>\n",
       "      <td>0.019701</td>\n",
       "      <td>0.000415</td>\n",
       "      <td>0.055748</td>\n",
       "    </tr>\n",
       "    <tr>\n",
       "      <th>2022-02-10</th>\n",
       "      <td>1.610881</td>\n",
       "      <td>-1.610881</td>\n",
       "      <td>2.138790</td>\n",
       "      <td>-3.524623</td>\n",
       "      <td>-4.572712</td>\n",
       "      <td>-5.663413</td>\n",
       "      <td>-0.017966</td>\n",
       "      <td>0.004606</td>\n",
       "      <td>0.006090</td>\n",
       "      <td>0.041926</td>\n",
       "    </tr>\n",
       "  </tbody>\n",
       "</table>\n",
       "</div>"
      ],
      "text/plain": [
       "              Volume  Directional_Vol  EOD_Vol_Tide  Vol_Adv_Dec  \\\n",
       "Date                                                               \n",
       "2022-02-04  1.318261         1.318261     -0.574958    -2.839388   \n",
       "2022-02-07  0.863057        -0.863057     -3.657778    -3.702445   \n",
       "2022-02-08  0.816533         0.816533      0.686838    -2.885912   \n",
       "2022-02-09  0.972171         0.972171      3.437074    -1.913742   \n",
       "2022-02-10  1.610881        -1.610881      2.138790    -3.524623   \n",
       "\n",
       "            Tide_Adv_Dec  Vol_Diff  Change_1  Change_3  Change_5  Change_10  \n",
       "Date                                                                         \n",
       "2022-02-04     -7.177636 -2.264430  0.004702 -0.009383  0.015273   0.024476  \n",
       "2022-02-07    -10.835414 -0.044667 -0.003209 -0.022062 -0.005890   0.016870  \n",
       "2022-02-08    -10.148576 -3.572750  0.008228  0.009718 -0.004438   0.037908  \n",
       "2022-02-09     -6.711502 -5.350816  0.014636  0.019701  0.000415   0.055748  \n",
       "2022-02-10     -4.572712 -5.663413 -0.017966  0.004606  0.006090   0.041926  "
      ]
     },
     "execution_count": 25,
     "metadata": {},
     "output_type": "execute_result"
    }
   ],
   "source": [
    "short_d_data.tail()"
   ]
  },
  {
   "cell_type": "code",
   "execution_count": 13,
   "id": "e1769051-192b-406f-99c1-4a4955a199f4",
   "metadata": {},
   "outputs": [
    {
     "name": "stdout",
     "output_type": "stream",
     "text": [
      "(59, 10)\n",
      "                 count      mean       std        min       25%       50%  \\\n",
      "Volume            59.0  1.094183  0.553837   0.363013  0.691473  1.011084   \n",
      "Directional_Vol   59.0  0.022518  1.234543  -2.446577 -1.042961  0.460182   \n",
      "EOD_Vol_Tide      59.0 -0.077504  4.308697 -10.519645 -2.992513 -0.216242   \n",
      "Vol_Adv_Dec       59.0 -5.342571  1.662669 -10.366840 -6.313487 -5.268837   \n",
      "Tide_Adv_Dec      59.0 -2.927733  7.919824 -22.431489 -7.739327 -1.207872   \n",
      "Vol_Diff          59.0 -5.265067  4.193186 -16.414500 -7.865187 -4.728692   \n",
      "Change_1          59.0 -0.000671  0.011529  -0.023505 -0.008838 -0.000939   \n",
      "Change_3          59.0 -0.001502  0.020116  -0.040548 -0.014675 -0.002305   \n",
      "Change_5          59.0 -0.002530  0.026156  -0.057155 -0.019218 -0.000647   \n",
      "Change_10         59.0 -0.005602  0.031590  -0.084455 -0.023683 -0.000336   \n",
      "\n",
      "                      75%        max  \n",
      "Volume           1.352341   3.112158  \n",
      "Directional_Vol  0.991627   3.112158  \n",
      "EOD_Vol_Tide     2.769017   9.159818  \n",
      "Vol_Adv_Dec     -4.148250  -1.913742  \n",
      "Tide_Adv_Dec     1.754388  11.685353  \n",
      "Vol_Diff        -2.807456   2.599382  \n",
      "Change_1         0.007492   0.024835  \n",
      "Change_3         0.010148   0.050343  \n",
      "Change_5         0.011300   0.055309  \n",
      "Change_10        0.014038   0.055748  \n"
     ]
    }
   ],
   "source": [
    "print(short_d_data.shape)\n",
    "print(short_d_data.describe().T)"
   ]
  },
  {
   "cell_type": "markdown",
   "id": "9a58ba54-8767-4b22-8bbb-aea4e61216f6",
   "metadata": {
    "tags": []
   },
   "source": [
    "## Target Values/Classes\n",
    "\n",
    "Our target values will be the classes 'Buy,' 'Flat,' 'Sell'.\n",
    "The classification will be assigned as follows:\n",
    "\n",
    "For Change_5 as $C$\n",
    "\n",
    "Buy if $C >= 0.3$%\n",
    "\n",
    "Flat if $-0.3\\% < C < 0.3$%\n",
    "\n",
    "Sell if $C <= -0.3$%"
   ]
  },
  {
   "cell_type": "markdown",
   "id": "7ef20979-2a97-41ef-8b1f-d2db67b744cb",
   "metadata": {
    "tags": []
   },
   "source": [
    "# Load Test Data"
   ]
  },
  {
   "cell_type": "code",
   "execution_count": 14,
   "id": "02a9a312-dab7-4342-86be-3dce28d9ef8c",
   "metadata": {},
   "outputs": [],
   "source": [
    "i_test_data = pd.read_csv('Data/5m_SPY_test')\n",
    "i_test_data = data_utils.transform_data(i_test_data, period='intraday')\n",
    "eod_value = i_test_data.groupby([i_test_data.Datetime.dt.date])['Dir_to_Vol'].sum()"
   ]
  },
  {
   "cell_type": "code",
   "execution_count": 15,
   "id": "39155f76-ddad-4b0d-802e-a1bbb8a43124",
   "metadata": {},
   "outputs": [],
   "source": [
    "d_test_data = pd.read_csv('Data/1d_SPY_test')\n",
    "d_test_data['Volume'] = data_utils.min_max_normalize(d_test_data['Volume'], 0, 5)\n",
    "d_test_data = data_utils.transform_data(d_test_data, period='daily', eod_tide=eod_value, create_targets=True)\n",
    "test_data = data_utils.transform_tide(d_test_data, eod_tide=eod_value)\n",
    "test_data.dropna(inplace=True)"
   ]
  },
  {
   "cell_type": "code",
   "execution_count": 16,
   "id": "3216b275-9afe-4eed-8cff-9fd78d51b489",
   "metadata": {},
   "outputs": [],
   "source": [
    "test_target = test_data.pop('Target')\n",
    "test_data.set_index('Date', inplace=True)\n",
    "test_data = test_data[study_columns]"
   ]
  },
  {
   "cell_type": "code",
   "execution_count": 17,
   "id": "89ba6111-1982-4e21-b376-cc55e5720b79",
   "metadata": {},
   "outputs": [
    {
     "data": {
      "text/html": [
       "<div>\n",
       "<style scoped>\n",
       "    .dataframe tbody tr th:only-of-type {\n",
       "        vertical-align: middle;\n",
       "    }\n",
       "\n",
       "    .dataframe tbody tr th {\n",
       "        vertical-align: top;\n",
       "    }\n",
       "\n",
       "    .dataframe thead th {\n",
       "        text-align: right;\n",
       "    }\n",
       "</style>\n",
       "<table border=\"1\" class=\"dataframe\">\n",
       "  <thead>\n",
       "    <tr style=\"text-align: right;\">\n",
       "      <th></th>\n",
       "      <th>Volume</th>\n",
       "      <th>Directional_Vol</th>\n",
       "      <th>EOD_Vol_Tide</th>\n",
       "      <th>Vol_Adv_Dec</th>\n",
       "      <th>Tide_Adv_Dec</th>\n",
       "      <th>Vol_Diff</th>\n",
       "      <th>Change_1</th>\n",
       "      <th>Change_3</th>\n",
       "      <th>Change_5</th>\n",
       "      <th>Change_10</th>\n",
       "    </tr>\n",
       "    <tr>\n",
       "      <th>Date</th>\n",
       "      <th></th>\n",
       "      <th></th>\n",
       "      <th></th>\n",
       "      <th></th>\n",
       "      <th></th>\n",
       "      <th></th>\n",
       "      <th></th>\n",
       "      <th></th>\n",
       "      <th></th>\n",
       "      <th></th>\n",
       "    </tr>\n",
       "  </thead>\n",
       "  <tbody>\n",
       "    <tr>\n",
       "      <th>2022-03-10</th>\n",
       "      <td>0.990759</td>\n",
       "      <td>0.990759</td>\n",
       "      <td>-2.518018</td>\n",
       "      <td>-9.537802</td>\n",
       "      <td>-20.949954</td>\n",
       "      <td>-7.019784</td>\n",
       "      <td>-0.004516</td>\n",
       "      <td>0.014424</td>\n",
       "      <td>-0.023479</td>\n",
       "      <td>-0.006584</td>\n",
       "    </tr>\n",
       "    <tr>\n",
       "      <th>2022-03-11</th>\n",
       "      <td>1.011688</td>\n",
       "      <td>-1.011688</td>\n",
       "      <td>-7.799765</td>\n",
       "      <td>-10.549489</td>\n",
       "      <td>-28.749719</td>\n",
       "      <td>-2.749724</td>\n",
       "      <td>-0.012715</td>\n",
       "      <td>0.009177</td>\n",
       "      <td>-0.027998</td>\n",
       "      <td>-0.040388</td>\n",
       "    </tr>\n",
       "    <tr>\n",
       "      <th>2022-03-14</th>\n",
       "      <td>1.014371</td>\n",
       "      <td>-1.014371</td>\n",
       "      <td>-3.062724</td>\n",
       "      <td>-11.563860</td>\n",
       "      <td>-31.812443</td>\n",
       "      <td>-8.501136</td>\n",
       "      <td>-0.007308</td>\n",
       "      <td>-0.024356</td>\n",
       "      <td>-0.005794</td>\n",
       "      <td>-0.044958</td>\n",
       "    </tr>\n",
       "    <tr>\n",
       "      <th>2022-03-15</th>\n",
       "      <td>1.155383</td>\n",
       "      <td>1.155383</td>\n",
       "      <td>8.726922</td>\n",
       "      <td>-10.408478</td>\n",
       "      <td>-23.085521</td>\n",
       "      <td>-19.135400</td>\n",
       "      <td>0.021990</td>\n",
       "      <td>0.001622</td>\n",
       "      <td>0.023832</td>\n",
       "      <td>-0.008861</td>\n",
       "    </tr>\n",
       "    <tr>\n",
       "      <th>2022-03-16</th>\n",
       "      <td>1.676093</td>\n",
       "      <td>1.676093</td>\n",
       "      <td>11.469683</td>\n",
       "      <td>-8.732384</td>\n",
       "      <td>-11.615838</td>\n",
       "      <td>-20.202067</td>\n",
       "      <td>0.022174</td>\n",
       "      <td>0.037018</td>\n",
       "      <td>0.019209</td>\n",
       "      <td>-0.005184</td>\n",
       "    </tr>\n",
       "  </tbody>\n",
       "</table>\n",
       "</div>"
      ],
      "text/plain": [
       "              Volume  Directional_Vol  EOD_Vol_Tide  Vol_Adv_Dec  \\\n",
       "Date                                                               \n",
       "2022-03-10  0.990759         0.990759     -2.518018    -9.537802   \n",
       "2022-03-11  1.011688        -1.011688     -7.799765   -10.549489   \n",
       "2022-03-14  1.014371        -1.014371     -3.062724   -11.563860   \n",
       "2022-03-15  1.155383         1.155383      8.726922   -10.408478   \n",
       "2022-03-16  1.676093         1.676093     11.469683    -8.732384   \n",
       "\n",
       "            Tide_Adv_Dec   Vol_Diff  Change_1  Change_3  Change_5  Change_10  \n",
       "Date                                                                          \n",
       "2022-03-10    -20.949954  -7.019784 -0.004516  0.014424 -0.023479  -0.006584  \n",
       "2022-03-11    -28.749719  -2.749724 -0.012715  0.009177 -0.027998  -0.040388  \n",
       "2022-03-14    -31.812443  -8.501136 -0.007308 -0.024356 -0.005794  -0.044958  \n",
       "2022-03-15    -23.085521 -19.135400  0.021990  0.001622  0.023832  -0.008861  \n",
       "2022-03-16    -11.615838 -20.202067  0.022174  0.037018  0.019209  -0.005184  "
      ]
     },
     "execution_count": 17,
     "metadata": {},
     "output_type": "execute_result"
    }
   ],
   "source": [
    "test_data.tail()"
   ]
  },
  {
   "cell_type": "markdown",
   "id": "ae4d179f-4077-4037-8c96-4fac8b9d10d0",
   "metadata": {},
   "source": [
    "# Run Naive Bayes"
   ]
  },
  {
   "cell_type": "code",
   "execution_count": 18,
   "id": "dc8abc98-8ed2-4ed4-b7d5-36e6896ebcd0",
   "metadata": {},
   "outputs": [],
   "source": [
    "from sklearn.naive_bayes import GaussianNB\n",
    "from sklearn.metrics import confusion_matrix, accuracy_score"
   ]
  },
  {
   "cell_type": "code",
   "execution_count": 19,
   "id": "c9c715f2-fea4-4660-8bb0-ed3f50d71919",
   "metadata": {},
   "outputs": [
    {
     "data": {
      "text/plain": [
       "GaussianNB()"
      ]
     },
     "execution_count": 19,
     "metadata": {},
     "output_type": "execute_result"
    }
   ],
   "source": [
    "nB = GaussianNB()\n",
    "nB.fit(short_d_data, target)"
   ]
  },
  {
   "cell_type": "markdown",
   "id": "5f7432e1-143f-44f2-a6df-9cd8882c0300",
   "metadata": {},
   "source": [
    "## Results"
   ]
  },
  {
   "cell_type": "code",
   "execution_count": 20,
   "id": "0c17bb44-65f1-4c73-b9a7-d301d9c7ba5d",
   "metadata": {},
   "outputs": [],
   "source": [
    "train_prediction = nB.predict(short_d_data)"
   ]
  },
  {
   "cell_type": "code",
   "execution_count": 21,
   "id": "d79f4a78-883b-441e-bc42-e3ab25222b2f",
   "metadata": {},
   "outputs": [],
   "source": [
    "training_cm = confusion_matrix(target, train_prediction, labels=['Buy', 'Flat', 'Sell'])\n",
    "training_accuracy = accuracy_score(target, train_prediction)"
   ]
  },
  {
   "cell_type": "code",
   "execution_count": 22,
   "id": "89a09bad-0152-4e27-acb4-89ceab4b4490",
   "metadata": {},
   "outputs": [],
   "source": [
    "test_prediction = nB.predict(test_data)\n",
    "test_cm = confusion_matrix(test_target, test_prediction)\n",
    "test_accuracy = accuracy_score(test_target, test_prediction)"
   ]
  },
  {
   "cell_type": "markdown",
   "id": "5f8aa12c-eb27-4645-b23c-2b7ce7895bc4",
   "metadata": {},
   "source": [
    "### Confusion Matrix"
   ]
  },
  {
   "cell_type": "code",
   "execution_count": 23,
   "id": "6e7a439f-6e72-46c1-af95-a4ddef69a277",
   "metadata": {},
   "outputs": [
    {
     "name": "stdout",
     "output_type": "stream",
     "text": [
      "Confusion Matrix for Training Data Set:\n",
      "               Actual          \n",
      "                  Buy Flat Sell\n",
      "Predicted Buy      15    3    2\n",
      "          Flat      1   10    1\n",
      "          Sell      1    8   18\n",
      "\n",
      "Confusion Matrix for Test Data Set:\n",
      "               Actual          \n",
      "                  Buy Flat Sell\n",
      "Predicted Buy       4    0    2\n",
      "          Flat      1    0    1\n",
      "          Sell      1    0   10\n"
     ]
    }
   ],
   "source": [
    "# Use kenneths heat matrix for confusion matrix.\n",
    "# Can it handle 3 classes?\n",
    "true_column = pd.MultiIndex.from_tuples([('Actual', 'Buy'),('Actual', 'Flat'),('Actual', 'Sell')])\n",
    "true_index = pd.MultiIndex.from_tuples([('Predicted', 'Buy'),('Predicted', 'Flat'),('Predicted', 'Sell')])\n",
    "train_cm_as_df = pd.DataFrame(training_cm, columns=true_column,\n",
    "                        index=true_index)\n",
    "accuracy_as_df = None\n",
    "print('Confusion Matrix for Training Data Set:')\n",
    "print(train_cm_as_df)\n",
    "print()\n",
    "\n",
    "test_cm_as_df = pd.DataFrame(test_cm, columns=true_column,\n",
    "                        index=true_index)\n",
    "print('Confusion Matrix for Test Data Set:')\n",
    "print(test_cm_as_df)"
   ]
  },
  {
   "cell_type": "code",
   "execution_count": 24,
   "id": "c56d2d67-607f-4313-aff0-bef62f90e3dd",
   "metadata": {},
   "outputs": [
    {
     "name": "stdout",
     "output_type": "stream",
     "text": [
      "Training Data Accuracy: 0.729\n",
      "\n",
      "Test Data Accuracy: 0.737\n"
     ]
    }
   ],
   "source": [
    "print(f'Training Data Accuracy: {round(training_accuracy, 3)}\\n')\n",
    "print(f'Test Data Accuracy: {round(test_accuracy, 3)}')"
   ]
  }
 ],
 "metadata": {
  "kernelspec": {
   "display_name": "Python 3 (ipykernel)",
   "language": "python",
   "name": "python3"
  },
  "language_info": {
   "codemirror_mode": {
    "name": "ipython",
    "version": 3
   },
   "file_extension": ".py",
   "mimetype": "text/x-python",
   "name": "python",
   "nbconvert_exporter": "python",
   "pygments_lexer": "ipython3",
   "version": "3.10.2"
  }
 },
 "nbformat": 4,
 "nbformat_minor": 5
}
