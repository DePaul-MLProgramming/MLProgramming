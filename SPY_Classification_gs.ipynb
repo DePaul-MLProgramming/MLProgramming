{
 "cells": [
  {
   "cell_type": "markdown",
   "id": "622009a4-c1d0-4c53-8424-7d5f3e397da4",
   "metadata": {},
   "source": [
    "# <center>SPY Classification with Intraday Data Based Variables</center>"
   ]
  },
  {
   "cell_type": "markdown",
   "id": "864bc2a0-ab88-49a6-a26e-e4e94a21d912",
   "metadata": {},
   "source": [
    "For this study, we are going to use classification to assign 'Buy', 'Flat', or 'Sell' to each row of data.\n",
    "\n",
    "The data is one day of SPY values.\n",
    "\n",
    "The difference of this study vs my peers is that I am focusing on volume and exploring its value in classifying the data. \n",
    "This study includes values that are derived from intraday data, in addition to daily data.  \n",
    "Actually, the primary focus are the variables that are derived from the intraday data and their impact on the variables derived from there."
   ]
  },
  {
   "cell_type": "code",
   "execution_count": 1,
   "id": "5d0710b2-592d-4e05-b14b-b19d03ed698d",
   "metadata": {},
   "outputs": [],
   "source": [
    "import pandas as pd\n",
    "import matplotlib.pyplot as plt\n",
    "from mlUtilities import ml_utils, data_utils"
   ]
  },
  {
   "cell_type": "code",
   "execution_count": 2,
   "id": "b4a7f612-0998-4721-98d2-2541bf74ef68",
   "metadata": {},
   "outputs": [],
   "source": [
    "from importlib import reload"
   ]
  },
  {
   "cell_type": "markdown",
   "id": "aea9c2aa-7c88-4937-aba1-60c6857fdb8e",
   "metadata": {},
   "source": [
    "# Load Data\n",
    "\n",
    "<hr size='3'>"
   ]
  },
  {
   "cell_type": "markdown",
   "id": "1d8f819a-ec52-4b6d-989d-698726686496",
   "metadata": {},
   "source": [
    "Our primary dataframes will be i_data and d_data--i for intraday and d for daily.\n",
    "Both variables are pandas DataFrame objects"
   ]
  },
  {
   "cell_type": "markdown",
   "id": "f2cf3fba-4b64-4a60-863e-76e58771418c",
   "metadata": {},
   "source": [
    "### Intraday Data Load and Preparation"
   ]
  },
  {
   "cell_type": "code",
   "execution_count": 3,
   "id": "878ba396-13e2-4cf8-8e46-606b40c0145b",
   "metadata": {},
   "outputs": [],
   "source": [
    "i_data = pd.read_csv('Data/5m_SPY')"
   ]
  },
  {
   "cell_type": "code",
   "execution_count": 6,
   "id": "f2375dcd-bad3-42ea-817b-f257209d133c",
   "metadata": {},
   "outputs": [
    {
     "data": {
      "text/html": [
       "<div>\n",
       "<style scoped>\n",
       "    .dataframe tbody tr th:only-of-type {\n",
       "        vertical-align: middle;\n",
       "    }\n",
       "\n",
       "    .dataframe tbody tr th {\n",
       "        vertical-align: top;\n",
       "    }\n",
       "\n",
       "    .dataframe thead th {\n",
       "        text-align: right;\n",
       "    }\n",
       "</style>\n",
       "<table border=\"1\" class=\"dataframe\">\n",
       "  <thead>\n",
       "    <tr style=\"text-align: right;\">\n",
       "      <th></th>\n",
       "      <th>Datetime</th>\n",
       "      <th>Open</th>\n",
       "      <th>High</th>\n",
       "      <th>Low</th>\n",
       "      <th>Close</th>\n",
       "      <th>Adj Close</th>\n",
       "      <th>Volume</th>\n",
       "    </tr>\n",
       "  </thead>\n",
       "  <tbody>\n",
       "    <tr>\n",
       "      <th>0</th>\n",
       "      <td>2021-11-17 09:30:00-05:00</td>\n",
       "      <td>469.000000</td>\n",
       "      <td>469.040009</td>\n",
       "      <td>468.450012</td>\n",
       "      <td>468.519989</td>\n",
       "      <td>468.519989</td>\n",
       "      <td>2523699</td>\n",
       "    </tr>\n",
       "    <tr>\n",
       "      <th>1</th>\n",
       "      <td>2021-11-17 09:35:00-05:00</td>\n",
       "      <td>468.529999</td>\n",
       "      <td>468.540009</td>\n",
       "      <td>468.160004</td>\n",
       "      <td>468.320007</td>\n",
       "      <td>468.320007</td>\n",
       "      <td>836314</td>\n",
       "    </tr>\n",
       "    <tr>\n",
       "      <th>2</th>\n",
       "      <td>2021-11-17 09:40:00-05:00</td>\n",
       "      <td>468.320007</td>\n",
       "      <td>468.524994</td>\n",
       "      <td>468.160004</td>\n",
       "      <td>468.450012</td>\n",
       "      <td>468.450012</td>\n",
       "      <td>577620</td>\n",
       "    </tr>\n",
       "    <tr>\n",
       "      <th>3</th>\n",
       "      <td>2021-11-17 09:45:00-05:00</td>\n",
       "      <td>468.450012</td>\n",
       "      <td>468.640015</td>\n",
       "      <td>468.130005</td>\n",
       "      <td>468.135010</td>\n",
       "      <td>468.135010</td>\n",
       "      <td>865588</td>\n",
       "    </tr>\n",
       "    <tr>\n",
       "      <th>4</th>\n",
       "      <td>2021-11-17 09:50:00-05:00</td>\n",
       "      <td>468.135010</td>\n",
       "      <td>468.135010</td>\n",
       "      <td>467.579987</td>\n",
       "      <td>467.670013</td>\n",
       "      <td>467.670013</td>\n",
       "      <td>951646</td>\n",
       "    </tr>\n",
       "  </tbody>\n",
       "</table>\n",
       "</div>"
      ],
      "text/plain": [
       "                   Datetime        Open        High         Low       Close  \\\n",
       "0 2021-11-17 09:30:00-05:00  469.000000  469.040009  468.450012  468.519989   \n",
       "1 2021-11-17 09:35:00-05:00  468.529999  468.540009  468.160004  468.320007   \n",
       "2 2021-11-17 09:40:00-05:00  468.320007  468.524994  468.160004  468.450012   \n",
       "3 2021-11-17 09:45:00-05:00  468.450012  468.640015  468.130005  468.135010   \n",
       "4 2021-11-17 09:50:00-05:00  468.135010  468.135010  467.579987  467.670013   \n",
       "\n",
       "    Adj Close   Volume  \n",
       "0  468.519989  2523699  \n",
       "1  468.320007   836314  \n",
       "2  468.450012   577620  \n",
       "3  468.135010   865588  \n",
       "4  467.670013   951646  "
      ]
     },
     "execution_count": 6,
     "metadata": {},
     "output_type": "execute_result"
    }
   ],
   "source": [
    "i_data.head()"
   ]
  },
  {
   "cell_type": "code",
   "execution_count": 5,
   "id": "cc68105b-7993-49bc-abaa-913c9783eb5f",
   "metadata": {},
   "outputs": [],
   "source": [
    "i_data['Datetime'] = pd.to_datetime(i_data['Datetime'])"
   ]
  },
  {
   "cell_type": "code",
   "execution_count": null,
   "id": "95cacabc-b43e-4d38-8661-fa0384098af8",
   "metadata": {},
   "outputs": [],
   "source": []
  }
 ],
 "metadata": {
  "kernelspec": {
   "display_name": "Python 3 (ipykernel)",
   "language": "python",
   "name": "python3"
  },
  "language_info": {
   "codemirror_mode": {
    "name": "ipython",
    "version": 3
   },
   "file_extension": ".py",
   "mimetype": "text/x-python",
   "name": "python",
   "nbconvert_exporter": "python",
   "pygments_lexer": "ipython3",
   "version": "3.10.2"
  }
 },
 "nbformat": 4,
 "nbformat_minor": 5
}
