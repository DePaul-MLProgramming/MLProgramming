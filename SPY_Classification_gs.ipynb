{
 "cells": [
  {
   "cell_type": "markdown",
   "id": "622009a4-c1d0-4c53-8424-7d5f3e397da4",
   "metadata": {
    "tags": []
   },
   "source": [
    "# <center>SPY Classification with Intraday Data Based Variables</center>"
   ]
  },
  {
   "cell_type": "markdown",
   "id": "864bc2a0-ab88-49a6-a26e-e4e94a21d912",
   "metadata": {
    "tags": []
   },
   "source": [
    "For this study, we are going to use classification to assign 'Buy', 'Flat', or 'Sell' to each row of data.\n",
    "\n",
    "The data is one day of SPY values.\n",
    "\n",
    "The difference of this study vs my peers is that I am focusing on volume and exploring its value in classifying the data. \n",
    "This study includes values that are derived from intraday data, in addition to daily data.  \n",
    "Actually, the primary focus are the variables that are derived from the intraday data and their impact on the variables derived from there."
   ]
  },
  {
   "cell_type": "code",
   "execution_count": 1,
   "id": "5d0710b2-592d-4e05-b14b-b19d03ed698d",
   "metadata": {},
   "outputs": [],
   "source": [
    "import pandas as pd\n",
    "import numpy as np\n",
    "import matplotlib.pyplot as plt\n",
    "from mlUtilities import ml_utils, data_utils"
   ]
  },
  {
   "cell_type": "code",
   "execution_count": 2,
   "id": "b4a7f612-0998-4721-98d2-2541bf74ef68",
   "metadata": {},
   "outputs": [],
   "source": [
    "from importlib import reload"
   ]
  },
  {
   "cell_type": "code",
   "execution_count": 3,
   "id": "1bad697b-a313-44a9-b063-ca335ac259a5",
   "metadata": {},
   "outputs": [],
   "source": [
    "import warnings\n",
    "warnings.filterwarnings('ignore')"
   ]
  },
  {
   "cell_type": "markdown",
   "id": "aea9c2aa-7c88-4937-aba1-60c6857fdb8e",
   "metadata": {},
   "source": [
    "# Load Data\n",
    "\n",
    "<hr size='3'>"
   ]
  },
  {
   "cell_type": "markdown",
   "id": "1d8f819a-ec52-4b6d-989d-698726686496",
   "metadata": {},
   "source": [
    "Our primary dataframes will be i_data and d_data--i for intraday and d for daily.\n",
    "Both variables are pandas DataFrame objects"
   ]
  },
  {
   "cell_type": "markdown",
   "id": "f2cf3fba-4b64-4a60-863e-76e58771418c",
   "metadata": {},
   "source": [
    "### Intraday Data Load and Preparation"
   ]
  },
  {
   "cell_type": "code",
   "execution_count": 4,
   "id": "878ba396-13e2-4cf8-8e46-606b40c0145b",
   "metadata": {},
   "outputs": [],
   "source": [
    "i_data = pd.read_csv('Data/5m_SPY')"
   ]
  },
  {
   "cell_type": "code",
   "execution_count": 5,
   "id": "cc68105b-7993-49bc-abaa-913c9783eb5f",
   "metadata": {},
   "outputs": [],
   "source": [
    "i_data = data_utils.transform_data(i_data, period='intraday')"
   ]
  },
  {
   "cell_type": "code",
   "execution_count": 6,
   "id": "835f9cf8-e717-435a-af6e-ec13db2b2c32",
   "metadata": {},
   "outputs": [
    {
     "data": {
      "text/html": [
       "<div>\n",
       "<style scoped>\n",
       "    .dataframe tbody tr th:only-of-type {\n",
       "        vertical-align: middle;\n",
       "    }\n",
       "\n",
       "    .dataframe tbody tr th {\n",
       "        vertical-align: top;\n",
       "    }\n",
       "\n",
       "    .dataframe thead th {\n",
       "        text-align: right;\n",
       "    }\n",
       "</style>\n",
       "<table border=\"1\" class=\"dataframe\">\n",
       "  <thead>\n",
       "    <tr style=\"text-align: right;\">\n",
       "      <th></th>\n",
       "      <th>Datetime</th>\n",
       "      <th>Open</th>\n",
       "      <th>High</th>\n",
       "      <th>Low</th>\n",
       "      <th>Close</th>\n",
       "      <th>Adj Close</th>\n",
       "      <th>Volume</th>\n",
       "      <th>Vol_Direction</th>\n",
       "      <th>Dir_to_Vol</th>\n",
       "      <th>Vol_Tide</th>\n",
       "    </tr>\n",
       "  </thead>\n",
       "  <tbody>\n",
       "    <tr>\n",
       "      <th>0</th>\n",
       "      <td>2021-11-17 09:30:00-05:00</td>\n",
       "      <td>469.000000</td>\n",
       "      <td>469.040009</td>\n",
       "      <td>468.450012</td>\n",
       "      <td>468.519989</td>\n",
       "      <td>468.519989</td>\n",
       "      <td>0.737352</td>\n",
       "      <td>NaN</td>\n",
       "      <td>NaN</td>\n",
       "      <td>NaN</td>\n",
       "    </tr>\n",
       "    <tr>\n",
       "      <th>1</th>\n",
       "      <td>2021-11-17 09:35:00-05:00</td>\n",
       "      <td>468.529999</td>\n",
       "      <td>468.540009</td>\n",
       "      <td>468.160004</td>\n",
       "      <td>468.320007</td>\n",
       "      <td>468.320007</td>\n",
       "      <td>0.244347</td>\n",
       "      <td>-1.0</td>\n",
       "      <td>-0.244347</td>\n",
       "      <td>-0.244347</td>\n",
       "    </tr>\n",
       "    <tr>\n",
       "      <th>2</th>\n",
       "      <td>2021-11-17 09:40:00-05:00</td>\n",
       "      <td>468.320007</td>\n",
       "      <td>468.524994</td>\n",
       "      <td>468.160004</td>\n",
       "      <td>468.450012</td>\n",
       "      <td>468.450012</td>\n",
       "      <td>0.168764</td>\n",
       "      <td>1.0</td>\n",
       "      <td>0.168764</td>\n",
       "      <td>-0.075583</td>\n",
       "    </tr>\n",
       "    <tr>\n",
       "      <th>3</th>\n",
       "      <td>2021-11-17 09:45:00-05:00</td>\n",
       "      <td>468.450012</td>\n",
       "      <td>468.640015</td>\n",
       "      <td>468.130005</td>\n",
       "      <td>468.135010</td>\n",
       "      <td>468.135010</td>\n",
       "      <td>0.252900</td>\n",
       "      <td>-1.0</td>\n",
       "      <td>-0.252900</td>\n",
       "      <td>-0.328483</td>\n",
       "    </tr>\n",
       "    <tr>\n",
       "      <th>4</th>\n",
       "      <td>2021-11-17 09:50:00-05:00</td>\n",
       "      <td>468.135010</td>\n",
       "      <td>468.135010</td>\n",
       "      <td>467.579987</td>\n",
       "      <td>467.670013</td>\n",
       "      <td>467.670013</td>\n",
       "      <td>0.278044</td>\n",
       "      <td>-1.0</td>\n",
       "      <td>-0.278044</td>\n",
       "      <td>-0.606527</td>\n",
       "    </tr>\n",
       "  </tbody>\n",
       "</table>\n",
       "</div>"
      ],
      "text/plain": [
       "                   Datetime        Open        High         Low       Close  \\\n",
       "0 2021-11-17 09:30:00-05:00  469.000000  469.040009  468.450012  468.519989   \n",
       "1 2021-11-17 09:35:00-05:00  468.529999  468.540009  468.160004  468.320007   \n",
       "2 2021-11-17 09:40:00-05:00  468.320007  468.524994  468.160004  468.450012   \n",
       "3 2021-11-17 09:45:00-05:00  468.450012  468.640015  468.130005  468.135010   \n",
       "4 2021-11-17 09:50:00-05:00  468.135010  468.135010  467.579987  467.670013   \n",
       "\n",
       "    Adj Close    Volume  Vol_Direction  Dir_to_Vol  Vol_Tide  \n",
       "0  468.519989  0.737352            NaN         NaN       NaN  \n",
       "1  468.320007  0.244347           -1.0   -0.244347 -0.244347  \n",
       "2  468.450012  0.168764            1.0    0.168764 -0.075583  \n",
       "3  468.135010  0.252900           -1.0   -0.252900 -0.328483  \n",
       "4  467.670013  0.278044           -1.0   -0.278044 -0.606527  "
      ]
     },
     "execution_count": 6,
     "metadata": {},
     "output_type": "execute_result"
    }
   ],
   "source": [
    "i_data.head()"
   ]
  },
  {
   "cell_type": "markdown",
   "id": "707590f8-0e0c-4f18-aa40-dcd6fc12e774",
   "metadata": {},
   "source": [
    "This End Of Day (EOD) value is the variable we wanted to derive from our intraday data."
   ]
  },
  {
   "cell_type": "code",
   "execution_count": 7,
   "id": "9faab9aa-5865-4644-9820-e04d6f8df48b",
   "metadata": {},
   "outputs": [],
   "source": [
    "eod_vol_tide = i_data.groupby([i_data.Datetime.dt.date])['Dir_to_Vol'].sum()"
   ]
  },
  {
   "cell_type": "markdown",
   "id": "8bab15ae-aa66-474d-bf70-fd7c4445466b",
   "metadata": {
    "tags": []
   },
   "source": [
    "# Daily Data Load and Preparation"
   ]
  },
  {
   "cell_type": "markdown",
   "id": "bac889a8-c178-4ba7-b3bf-3cb1e4897f75",
   "metadata": {},
   "source": [
    "## Target Values/Classes\n",
    "\n",
    "Our target values will be the classes 'Buy,' 'Flat,' 'Sell'.\n",
    "The classification will be assigned as follows:\n",
    "\n",
    "For Change_5 as $C$\n",
    "\n",
    "Buy if $C >= 0.3$\n",
    "\n",
    "Flat if $-0.3 < C < 0.3$\n",
    "\n",
    "Sell if $C <= -0.3$"
   ]
  },
  {
   "cell_type": "code",
   "execution_count": 8,
   "id": "e23bf012-e520-4dc4-a4f8-602b578eacfe",
   "metadata": {},
   "outputs": [
    {
     "data": {
      "text/plain": [
       "<module 'mlUtilities.data_utils' from '/home/gsandoval/Documents/Classes/depaul/ML_Programming/Project/MLProgramming/mlUtilities/data_utils.py'>"
      ]
     },
     "execution_count": 8,
     "metadata": {},
     "output_type": "execute_result"
    }
   ],
   "source": [
    "reload(data_utils)"
   ]
  },
  {
   "cell_type": "code",
   "execution_count": 9,
   "id": "82eb9de8-608b-4d9c-800d-44bc777dcc0b",
   "metadata": {
    "tags": []
   },
   "outputs": [],
   "source": [
    "d_data = pd.read_csv('Data/1d_SPY')\n",
    "d_data['Volume'] = data_utils.min_max_normalize(d_data['Volume'], 0, 5)\n",
    "d_data = data_utils.transform_data(d_data, eod_tide=eod_vol_tide, create_targets=True)\n",
    "short_d_data = data_utils.transform_tide(d_data, eod_tide=eod_vol_tide)"
   ]
  },
  {
   "cell_type": "markdown",
   "id": "de27beec-559b-45c8-ac46-1d52a5681f46",
   "metadata": {},
   "source": [
    "Drop na rows."
   ]
  },
  {
   "cell_type": "code",
   "execution_count": 10,
   "id": "dcf5614c-36bf-42da-a65d-9304bc75d07b",
   "metadata": {},
   "outputs": [],
   "source": [
    "short_d_data.dropna(inplace=True)"
   ]
  },
  {
   "cell_type": "code",
   "execution_count": 11,
   "id": "67fc974d-ac42-4311-a996-a5e690921914",
   "metadata": {},
   "outputs": [
    {
     "data": {
      "text/html": [
       "<div>\n",
       "<style scoped>\n",
       "    .dataframe tbody tr th:only-of-type {\n",
       "        vertical-align: middle;\n",
       "    }\n",
       "\n",
       "    .dataframe tbody tr th {\n",
       "        vertical-align: top;\n",
       "    }\n",
       "\n",
       "    .dataframe thead th {\n",
       "        text-align: right;\n",
       "    }\n",
       "</style>\n",
       "<table border=\"1\" class=\"dataframe\">\n",
       "  <thead>\n",
       "    <tr style=\"text-align: right;\">\n",
       "      <th></th>\n",
       "      <th>Date</th>\n",
       "      <th>High</th>\n",
       "      <th>Low</th>\n",
       "      <th>Open</th>\n",
       "      <th>Close</th>\n",
       "      <th>Volume</th>\n",
       "      <th>Adj Close</th>\n",
       "      <th>Directional_Vol</th>\n",
       "      <th>Vol_Adv_Dec</th>\n",
       "      <th>Change_1</th>\n",
       "      <th>Change_3</th>\n",
       "      <th>Change_5</th>\n",
       "      <th>Change_10</th>\n",
       "      <th>EOD_Vol_Tide</th>\n",
       "      <th>Tide_Adv_Dec</th>\n",
       "      <th>Vol_Diff</th>\n",
       "      <th>Target</th>\n",
       "    </tr>\n",
       "  </thead>\n",
       "  <tbody>\n",
       "    <tr>\n",
       "      <th>54</th>\n",
       "      <td>2022-02-04</td>\n",
       "      <td>452.779999</td>\n",
       "      <td>443.829987</td>\n",
       "      <td>446.350006</td>\n",
       "      <td>448.700012</td>\n",
       "      <td>1.318261</td>\n",
       "      <td>448.700012</td>\n",
       "      <td>1.318261</td>\n",
       "      <td>-2.839388</td>\n",
       "      <td>0.004702</td>\n",
       "      <td>-0.009383</td>\n",
       "      <td>0.015273</td>\n",
       "      <td>0.024476</td>\n",
       "      <td>-0.574958</td>\n",
       "      <td>-7.177636</td>\n",
       "      <td>-2.264430</td>\n",
       "      <td>Sell</td>\n",
       "    </tr>\n",
       "    <tr>\n",
       "      <th>55</th>\n",
       "      <td>2022-02-07</td>\n",
       "      <td>450.989990</td>\n",
       "      <td>445.850006</td>\n",
       "      <td>449.510010</td>\n",
       "      <td>447.260010</td>\n",
       "      <td>0.863057</td>\n",
       "      <td>447.260010</td>\n",
       "      <td>-0.863057</td>\n",
       "      <td>-3.702445</td>\n",
       "      <td>-0.003209</td>\n",
       "      <td>-0.022062</td>\n",
       "      <td>-0.005890</td>\n",
       "      <td>0.016870</td>\n",
       "      <td>-3.657778</td>\n",
       "      <td>-10.835414</td>\n",
       "      <td>-0.044667</td>\n",
       "      <td>Flat</td>\n",
       "    </tr>\n",
       "    <tr>\n",
       "      <th>56</th>\n",
       "      <td>2022-02-08</td>\n",
       "      <td>451.920013</td>\n",
       "      <td>445.220001</td>\n",
       "      <td>446.730011</td>\n",
       "      <td>450.940002</td>\n",
       "      <td>0.816533</td>\n",
       "      <td>450.940002</td>\n",
       "      <td>0.816533</td>\n",
       "      <td>-2.885912</td>\n",
       "      <td>0.008228</td>\n",
       "      <td>0.009718</td>\n",
       "      <td>-0.004438</td>\n",
       "      <td>0.037908</td>\n",
       "      <td>0.686838</td>\n",
       "      <td>-10.148576</td>\n",
       "      <td>-3.572750</td>\n",
       "      <td>Flat</td>\n",
       "    </tr>\n",
       "    <tr>\n",
       "      <th>57</th>\n",
       "      <td>2022-02-09</td>\n",
       "      <td>457.880005</td>\n",
       "      <td>455.010010</td>\n",
       "      <td>455.220001</td>\n",
       "      <td>457.540009</td>\n",
       "      <td>0.972171</td>\n",
       "      <td>457.540009</td>\n",
       "      <td>0.972171</td>\n",
       "      <td>-1.913742</td>\n",
       "      <td>0.014636</td>\n",
       "      <td>0.019701</td>\n",
       "      <td>0.000415</td>\n",
       "      <td>0.055748</td>\n",
       "      <td>3.437074</td>\n",
       "      <td>-6.711502</td>\n",
       "      <td>-5.350816</td>\n",
       "      <td>Buy</td>\n",
       "    </tr>\n",
       "    <tr>\n",
       "      <th>58</th>\n",
       "      <td>2022-02-10</td>\n",
       "      <td>457.709991</td>\n",
       "      <td>447.200012</td>\n",
       "      <td>451.339996</td>\n",
       "      <td>449.320007</td>\n",
       "      <td>1.610881</td>\n",
       "      <td>449.320007</td>\n",
       "      <td>-1.610881</td>\n",
       "      <td>-3.524623</td>\n",
       "      <td>-0.017966</td>\n",
       "      <td>0.004606</td>\n",
       "      <td>0.006090</td>\n",
       "      <td>0.041926</td>\n",
       "      <td>2.138790</td>\n",
       "      <td>-4.572712</td>\n",
       "      <td>-5.663413</td>\n",
       "      <td>Sell</td>\n",
       "    </tr>\n",
       "  </tbody>\n",
       "</table>\n",
       "</div>"
      ],
      "text/plain": [
       "         Date        High         Low        Open       Close    Volume  \\\n",
       "54 2022-02-04  452.779999  443.829987  446.350006  448.700012  1.318261   \n",
       "55 2022-02-07  450.989990  445.850006  449.510010  447.260010  0.863057   \n",
       "56 2022-02-08  451.920013  445.220001  446.730011  450.940002  0.816533   \n",
       "57 2022-02-09  457.880005  455.010010  455.220001  457.540009  0.972171   \n",
       "58 2022-02-10  457.709991  447.200012  451.339996  449.320007  1.610881   \n",
       "\n",
       "     Adj Close  Directional_Vol  Vol_Adv_Dec  Change_1  Change_3  Change_5  \\\n",
       "54  448.700012         1.318261    -2.839388  0.004702 -0.009383  0.015273   \n",
       "55  447.260010        -0.863057    -3.702445 -0.003209 -0.022062 -0.005890   \n",
       "56  450.940002         0.816533    -2.885912  0.008228  0.009718 -0.004438   \n",
       "57  457.540009         0.972171    -1.913742  0.014636  0.019701  0.000415   \n",
       "58  449.320007        -1.610881    -3.524623 -0.017966  0.004606  0.006090   \n",
       "\n",
       "    Change_10  EOD_Vol_Tide  Tide_Adv_Dec  Vol_Diff Target  \n",
       "54   0.024476     -0.574958     -7.177636 -2.264430   Sell  \n",
       "55   0.016870     -3.657778    -10.835414 -0.044667   Flat  \n",
       "56   0.037908      0.686838    -10.148576 -3.572750   Flat  \n",
       "57   0.055748      3.437074     -6.711502 -5.350816    Buy  \n",
       "58   0.041926      2.138790     -4.572712 -5.663413   Sell  "
      ]
     },
     "execution_count": 11,
     "metadata": {},
     "output_type": "execute_result"
    }
   ],
   "source": [
    "short_d_data.tail()"
   ]
  },
  {
   "cell_type": "markdown",
   "id": "9541c3d6-8a18-4643-a7a4-b1053f5a29c8",
   "metadata": {},
   "source": [
    "### Lets drop the columns that will are not being tested."
   ]
  },
  {
   "cell_type": "code",
   "execution_count": 12,
   "id": "838c024a-13cb-4516-9e08-98eab31fad92",
   "metadata": {},
   "outputs": [],
   "source": [
    "target = short_d_data.pop('Target')\n",
    "short_d_data.set_index('Date', inplace=True)\n",
    "study_columns = ['Volume', 'Directional_Vol', 'EOD_Vol_Tide',\n",
    "                 'Vol_Adv_Dec', 'Tide_Adv_Dec', 'Vol_Diff',\n",
    "                 'Change_1', 'Change_3', 'Change_5', 'Change_10'\n",
    "                ]\n",
    "short_d_data = short_d_data[study_columns]"
   ]
  },
  {
   "cell_type": "code",
   "execution_count": 13,
   "id": "499f190f-b27d-4623-b1af-705e4f013b44",
   "metadata": {},
   "outputs": [
    {
     "data": {
      "text/html": [
       "<div>\n",
       "<style scoped>\n",
       "    .dataframe tbody tr th:only-of-type {\n",
       "        vertical-align: middle;\n",
       "    }\n",
       "\n",
       "    .dataframe tbody tr th {\n",
       "        vertical-align: top;\n",
       "    }\n",
       "\n",
       "    .dataframe thead th {\n",
       "        text-align: right;\n",
       "    }\n",
       "</style>\n",
       "<table border=\"1\" class=\"dataframe\">\n",
       "  <thead>\n",
       "    <tr style=\"text-align: right;\">\n",
       "      <th></th>\n",
       "      <th>Volume</th>\n",
       "      <th>Directional_Vol</th>\n",
       "      <th>EOD_Vol_Tide</th>\n",
       "      <th>Vol_Adv_Dec</th>\n",
       "      <th>Tide_Adv_Dec</th>\n",
       "      <th>Vol_Diff</th>\n",
       "      <th>Change_1</th>\n",
       "      <th>Change_3</th>\n",
       "      <th>Change_5</th>\n",
       "      <th>Change_10</th>\n",
       "    </tr>\n",
       "    <tr>\n",
       "      <th>Date</th>\n",
       "      <th></th>\n",
       "      <th></th>\n",
       "      <th></th>\n",
       "      <th></th>\n",
       "      <th></th>\n",
       "      <th></th>\n",
       "      <th></th>\n",
       "      <th></th>\n",
       "      <th></th>\n",
       "      <th></th>\n",
       "    </tr>\n",
       "  </thead>\n",
       "  <tbody>\n",
       "    <tr>\n",
       "      <th>2021-11-17</th>\n",
       "      <td>0.370860</td>\n",
       "      <td>-0.370860</td>\n",
       "      <td>-0.868448</td>\n",
       "      <td>-5.224022</td>\n",
       "      <td>-0.868448</td>\n",
       "      <td>-4.355573</td>\n",
       "      <td>-0.002429</td>\n",
       "      <td>0.001862</td>\n",
       "      <td>0.009749</td>\n",
       "      <td>0.007359</td>\n",
       "    </tr>\n",
       "    <tr>\n",
       "      <th>2021-11-18</th>\n",
       "      <td>0.408059</td>\n",
       "      <td>0.408059</td>\n",
       "      <td>2.212248</td>\n",
       "      <td>-4.815962</td>\n",
       "      <td>1.343799</td>\n",
       "      <td>-7.028210</td>\n",
       "      <td>0.003396</td>\n",
       "      <td>0.004921</td>\n",
       "      <td>0.012851</td>\n",
       "      <td>0.006040</td>\n",
       "    </tr>\n",
       "    <tr>\n",
       "      <th>2021-11-19</th>\n",
       "      <td>0.497991</td>\n",
       "      <td>-0.497991</td>\n",
       "      <td>1.092567</td>\n",
       "      <td>-5.313953</td>\n",
       "      <td>2.436366</td>\n",
       "      <td>-6.406520</td>\n",
       "      <td>-0.001788</td>\n",
       "      <td>-0.000831</td>\n",
       "      <td>0.003467</td>\n",
       "      <td>0.000768</td>\n",
       "    </tr>\n",
       "    <tr>\n",
       "      <th>2021-11-22</th>\n",
       "      <td>0.705631</td>\n",
       "      <td>-0.705631</td>\n",
       "      <td>-3.064953</td>\n",
       "      <td>-6.019584</td>\n",
       "      <td>-0.628587</td>\n",
       "      <td>-2.954631</td>\n",
       "      <td>-0.002815</td>\n",
       "      <td>-0.001218</td>\n",
       "      <td>0.000300</td>\n",
       "      <td>-0.002900</td>\n",
       "    </tr>\n",
       "    <tr>\n",
       "      <th>2021-11-23</th>\n",
       "      <td>0.711606</td>\n",
       "      <td>0.711606</td>\n",
       "      <td>-0.579285</td>\n",
       "      <td>-5.307978</td>\n",
       "      <td>-1.207872</td>\n",
       "      <td>-4.728692</td>\n",
       "      <td>0.001326</td>\n",
       "      <td>-0.003278</td>\n",
       "      <td>-0.002323</td>\n",
       "      <td>0.001733</td>\n",
       "    </tr>\n",
       "  </tbody>\n",
       "</table>\n",
       "</div>"
      ],
      "text/plain": [
       "              Volume  Directional_Vol  EOD_Vol_Tide  Vol_Adv_Dec  \\\n",
       "Date                                                               \n",
       "2021-11-17  0.370860        -0.370860     -0.868448    -5.224022   \n",
       "2021-11-18  0.408059         0.408059      2.212248    -4.815962   \n",
       "2021-11-19  0.497991        -0.497991      1.092567    -5.313953   \n",
       "2021-11-22  0.705631        -0.705631     -3.064953    -6.019584   \n",
       "2021-11-23  0.711606         0.711606     -0.579285    -5.307978   \n",
       "\n",
       "            Tide_Adv_Dec  Vol_Diff  Change_1  Change_3  Change_5  Change_10  \n",
       "Date                                                                         \n",
       "2021-11-17     -0.868448 -4.355573 -0.002429  0.001862  0.009749   0.007359  \n",
       "2021-11-18      1.343799 -7.028210  0.003396  0.004921  0.012851   0.006040  \n",
       "2021-11-19      2.436366 -6.406520 -0.001788 -0.000831  0.003467   0.000768  \n",
       "2021-11-22     -0.628587 -2.954631 -0.002815 -0.001218  0.000300  -0.002900  \n",
       "2021-11-23     -1.207872 -4.728692  0.001326 -0.003278 -0.002323   0.001733  "
      ]
     },
     "execution_count": 13,
     "metadata": {},
     "output_type": "execute_result"
    }
   ],
   "source": [
    "short_d_data.head()"
   ]
  },
  {
   "cell_type": "code",
   "execution_count": 14,
   "id": "3ae386a9-24d9-4f2c-ad78-3b36aff2f505",
   "metadata": {},
   "outputs": [
    {
     "name": "stdout",
     "output_type": "stream",
     "text": [
      "(59, 10)\n",
      "(59,)\n"
     ]
    }
   ],
   "source": [
    "print(short_d_data.shape)\n",
    "print(target.shape)"
   ]
  },
  {
   "cell_type": "markdown",
   "id": "7ef20979-2a97-41ef-8b1f-d2db67b744cb",
   "metadata": {
    "tags": []
   },
   "source": [
    "# Load Test Data"
   ]
  },
  {
   "cell_type": "code",
   "execution_count": 15,
   "id": "02a9a312-dab7-4342-86be-3dce28d9ef8c",
   "metadata": {},
   "outputs": [],
   "source": [
    "i_test_data = pd.read_csv('Data/5m_SPY_test')\n",
    "i_test_data = data_utils.transform_data(i_test_data, period='intraday')\n",
    "eod_value = i_test_data.groupby([i_test_data.Datetime.dt.date])['Dir_to_Vol'].sum()"
   ]
  },
  {
   "cell_type": "code",
   "execution_count": 16,
   "id": "39155f76-ddad-4b0d-802e-a1bbb8a43124",
   "metadata": {},
   "outputs": [],
   "source": [
    "d_test_data = pd.read_csv('Data/1d_SPY_test')\n",
    "d_test_data['Volume'] = data_utils.min_max_normalize(d_test_data['Volume'], 0, 5)\n",
    "d_test_data = data_utils.transform_data(d_test_data, period='daily', eod_tide=eod_value, create_targets=True)\n",
    "test_data = data_utils.transform_tide(d_test_data, eod_tide=eod_value)\n",
    "test_data.dropna(inplace=True)"
   ]
  },
  {
   "cell_type": "code",
   "execution_count": 17,
   "id": "3216b275-9afe-4eed-8cff-9fd78d51b489",
   "metadata": {},
   "outputs": [],
   "source": [
    "test_target = test_data.pop('Target')\n",
    "test_data.set_index('Date', inplace=True)\n",
    "test_data = test_data[study_columns]"
   ]
  },
  {
   "cell_type": "markdown",
   "id": "ae4d179f-4077-4037-8c96-4fac8b9d10d0",
   "metadata": {},
   "source": [
    "# Run Naive Bayes"
   ]
  },
  {
   "cell_type": "code",
   "execution_count": 18,
   "id": "dc8abc98-8ed2-4ed4-b7d5-36e6896ebcd0",
   "metadata": {},
   "outputs": [],
   "source": [
    "from sklearn.naive_bayes import GaussianNB\n",
    "from sklearn.metrics import confusion_matrix, accuracy_score"
   ]
  },
  {
   "cell_type": "code",
   "execution_count": 19,
   "id": "c9c715f2-fea4-4660-8bb0-ed3f50d71919",
   "metadata": {},
   "outputs": [
    {
     "data": {
      "text/plain": [
       "GaussianNB()"
      ]
     },
     "execution_count": 19,
     "metadata": {},
     "output_type": "execute_result"
    }
   ],
   "source": [
    "nB = GaussianNB()\n",
    "nB.fit(short_d_data, target)"
   ]
  },
  {
   "cell_type": "markdown",
   "id": "5f7432e1-143f-44f2-a6df-9cd8882c0300",
   "metadata": {},
   "source": [
    "## Results"
   ]
  },
  {
   "cell_type": "code",
   "execution_count": 20,
   "id": "0c17bb44-65f1-4c73-b9a7-d301d9c7ba5d",
   "metadata": {},
   "outputs": [],
   "source": [
    "train_prediction = nB.predict(short_d_data)"
   ]
  },
  {
   "cell_type": "code",
   "execution_count": 21,
   "id": "d79f4a78-883b-441e-bc42-e3ab25222b2f",
   "metadata": {},
   "outputs": [],
   "source": [
    "training_cm = confusion_matrix(target, train_prediction, labels=['Buy', 'Flat', 'Sell'])\n",
    "training_accuracy = accuracy_score(target, train_prediction)"
   ]
  },
  {
   "cell_type": "code",
   "execution_count": 22,
   "id": "89a09bad-0152-4e27-acb4-89ceab4b4490",
   "metadata": {},
   "outputs": [],
   "source": [
    "test_prediction = nB.predict(test_data)\n",
    "test_cm = confusion_matrix(test_target, test_prediction)\n",
    "test_accuracy = accuracy_score(test_target, test_prediction)"
   ]
  },
  {
   "cell_type": "markdown",
   "id": "5f8aa12c-eb27-4645-b23c-2b7ce7895bc4",
   "metadata": {},
   "source": [
    "### Confusion Matrix"
   ]
  },
  {
   "cell_type": "markdown",
   "id": "163cc816-1daf-48cb-bac5-36e0ed31587f",
   "metadata": {},
   "source": []
  },
  {
   "cell_type": "code",
   "execution_count": 30,
   "id": "6e7a439f-6e72-46c1-af95-a4ddef69a277",
   "metadata": {},
   "outputs": [
    {
     "name": "stdout",
     "output_type": "stream",
     "text": [
      "Confusion Matrix for Training Data Set:\n",
      "               Actual          \n",
      "                  Buy Flat Sell\n",
      "Predicted Buy      15    3    2\n",
      "          Flat      1   10    1\n",
      "          Sell      1    8   18\n",
      "\n",
      "Confusion Matrix for Test Data Set:\n",
      "               Actual          \n",
      "                  Buy Flat Sell\n",
      "Predicted Buy       4    0    2\n",
      "          Flat      1    0    1\n",
      "          Sell      1    0   10\n"
     ]
    }
   ],
   "source": [
    "# Use kenneths heat matrix for confusion matrix.\n",
    "# Can it handle 3 classes?\n",
    "true_column = pd.MultiIndex.from_tuples([('Actual', 'Buy'),('Actual', 'Flat'),('Actual', 'Sell')])\n",
    "true_index = pd.MultiIndex.from_tuples([('Predicted', 'Buy'),('Predicted', 'Flat'),('Predicted', 'Sell')])\n",
    "train_cm_as_df = pd.DataFrame(training_cm, columns=true_column,\n",
    "                        index=true_index)\n",
    "accuracy_as_df = None\n",
    "print('Confusion Matrix for Training Data Set:')\n",
    "print(cm_as_df)\n",
    "print()\n",
    "\n",
    "test_cm_as_df = pd.DataFrame(test_cm, columns=true_column,\n",
    "                        index=true_index)\n",
    "print('Confusion Matrix for Test Data Set:')\n",
    "print(test_cm_as_df)"
   ]
  },
  {
   "cell_type": "code",
   "execution_count": 33,
   "id": "c56d2d67-607f-4313-aff0-bef62f90e3dd",
   "metadata": {},
   "outputs": [
    {
     "name": "stdout",
     "output_type": "stream",
     "text": [
      "Training Data Accuracy: 0.729\n",
      "\n",
      "Test Data Accuracy: 0.737\n"
     ]
    }
   ],
   "source": [
    "print(f'Training Data Accuracy: {round(training_accuracy, 3)}\\n')\n",
    "print(f'Test Data Accuracy: {round(test_accuracy, 3)}')"
   ]
  },
  {
   "cell_type": "code",
   "execution_count": null,
   "id": "1bb019d0-8042-468e-bbda-a132d7bc091a",
   "metadata": {},
   "outputs": [],
   "source": []
  }
 ],
 "metadata": {
  "kernelspec": {
   "display_name": "Python 3 (ipykernel)",
   "language": "python",
   "name": "python3"
  },
  "language_info": {
   "codemirror_mode": {
    "name": "ipython",
    "version": 3
   },
   "file_extension": ".py",
   "mimetype": "text/x-python",
   "name": "python",
   "nbconvert_exporter": "python",
   "pygments_lexer": "ipython3",
   "version": "3.10.2"
  }
 },
 "nbformat": 4,
 "nbformat_minor": 5
}
