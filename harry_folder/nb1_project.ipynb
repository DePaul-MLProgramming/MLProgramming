{
 "cells": [
  {
   "cell_type": "code",
   "execution_count": 16,
   "id": "67024460",
   "metadata": {},
   "outputs": [],
   "source": [
    "import numpy as np\n",
    "import pandas as pd\n",
    "import yfinance as yf\n",
    "from ta.momentum import *\n",
    "from ta.trend import *"
   ]
  },
  {
   "cell_type": "code",
   "execution_count": 17,
   "id": "740b63ea",
   "metadata": {},
   "outputs": [
    {
     "name": "stdout",
     "output_type": "stream",
     "text": [
      "[*********************100%***********************]  1 of 1 completed\n"
     ]
    }
   ],
   "source": [
    "tickers =['nvda']\n",
    "stock_data = yf.download(tickers, start=\"2017-02-14\", end=\"2022-02-28\")"
   ]
  },
  {
   "cell_type": "code",
   "execution_count": 18,
   "id": "e2468769",
   "metadata": {},
   "outputs": [],
   "source": [
    "def addPivotZone(df):\n",
    "    df['Pivot'] = (df['High'] + df['Low'] + df['Close'])/3\n",
    "    df['R1'] = (2*df['Pivot']) - df['Low']\n",
    "    df['S1'] = (2*df['Pivot']) - df['High']\n",
    "    df['R2'] = (df['Pivot']) + (df['High'] - df['Low'])\n",
    "    df['S2'] = (df['Pivot']) - (df['High'] - df['Low'])\n",
    "    df['R3'] = (df['R1']) + (df['High'] - df['Low'])\n",
    "    df['S3'] = (df['S1']) - (df['High'] - df['Low'])\n",
    "    df['R4'] = (df['R3']) + (df['R2'] - df['R1'])\n",
    "    df['S4'] = (df['S3']) - (df['S1'] - df['S2'])\n",
    "    return df"
   ]
  },
  {
   "cell_type": "code",
   "execution_count": 19,
   "id": "741881f8",
   "metadata": {},
   "outputs": [],
   "source": [
    "def addSimpleMovingAverage(df, period, fillna):\n",
    "    sma_indicator = SMAIndicator(df, period, fillna)\n",
    "    return (sma_indicator.sma_indicator())"
   ]
  },
  {
   "cell_type": "code",
   "execution_count": 20,
   "id": "a959d016",
   "metadata": {},
   "outputs": [],
   "source": [
    "def addRateOfChange(df, period, fillna):\n",
    "    roc_indicator = ROCIndicator(df, period, fillna)\n",
    "    return (roc_indicator.roc())"
   ]
  },
  {
   "cell_type": "code",
   "execution_count": 21,
   "id": "c1ea6423",
   "metadata": {},
   "outputs": [
    {
     "name": "stdout",
     "output_type": "stream",
     "text": [
      "[*********************100%***********************]  1 of 1 completed\n"
     ]
    }
   ],
   "source": [
    "tickers =['nvda']\n",
    "stock_data = yf.download(tickers, start=\"2017-02-14\", end=\"2022-02-28\")"
   ]
  },
  {
   "cell_type": "code",
   "execution_count": 22,
   "id": "3eb28a24",
   "metadata": {},
   "outputs": [],
   "source": [
    "stock_data = addPivotZone(stock_data)"
   ]
  },
  {
   "cell_type": "code",
   "execution_count": 23,
   "id": "6cabe3df",
   "metadata": {},
   "outputs": [],
   "source": [
    "stock_data['SMA'] = addSimpleMovingAverage(stock_data['Close'], 2, True)"
   ]
  },
  {
   "cell_type": "code",
   "execution_count": 24,
   "id": "68ee5643",
   "metadata": {},
   "outputs": [],
   "source": [
    "stock_data['ROC'] = addRateOfChange(stock_data['Close'], 2, True)"
   ]
  },
  {
   "cell_type": "code",
   "execution_count": 12,
   "id": "fd2a41e1",
   "metadata": {},
   "outputs": [
    {
     "name": "stdout",
     "output_type": "stream",
     "text": [
      "                  Open        High         Low       Close   Adj Close  \\\n",
      "Date                                                                     \n",
      "2017-02-14   26.997499   27.537500   26.572500   27.195000   26.836643   \n",
      "2017-02-15   27.225000   27.450001   26.940001   27.250000   26.890921   \n",
      "2017-02-16   27.347500   27.360001   26.415001   26.812500   26.459185   \n",
      "2017-02-17   26.674999   26.852501   26.197500   26.807501   26.454250   \n",
      "2017-02-21   27.057501   27.807501   27.055000   27.767500   27.401602   \n",
      "...                ...         ...         ...         ...         ...   \n",
      "2022-02-18  246.679993  249.860001  231.000000  236.419998  236.379730   \n",
      "2022-02-22  230.350006  240.639999  230.000000  233.899994  233.860153   \n",
      "2022-02-23  238.020004  241.550003  223.009995  223.869995  223.831863   \n",
      "2022-02-24  210.149994  238.000000  208.899994  237.479996  237.439545   \n",
      "2022-02-25  237.210007  242.169998  233.809998  241.570007  241.528854   \n",
      "\n",
      "              Volume       Pivot          R1          S1          R2  \\\n",
      "Date                                                                   \n",
      "2017-02-14  85063200   27.101667   27.630833   26.665833   28.066667   \n",
      "2017-02-15  37302000   27.213334   27.486667   26.976667   27.723334   \n",
      "2017-02-16  64717600   26.862501   27.310000   26.365000   27.807500   \n",
      "2017-02-17  56374000   26.619167   27.040834   26.385834   27.274168   \n",
      "2017-02-21  55195200   27.543334   28.031667   27.279167   28.295834   \n",
      "...              ...         ...         ...         ...         ...   \n",
      "2022-02-18  76125500  239.093333  247.186666  228.326665  257.953334   \n",
      "2022-02-22  63342200  234.846664  239.693329  229.053329  245.486664   \n",
      "2022-02-23  56651100  229.476664  235.943334  217.403325  248.016673   \n",
      "2022-02-24  73580100  228.126663  247.353333  218.253326  257.226669   \n",
      "2022-02-25  52886600  239.183334  244.556671  236.196671  247.543335   \n",
      "\n",
      "                    S2          R3          S3          R4          S4  \\\n",
      "Date                                                                     \n",
      "2017-02-14   26.136667   28.595833   25.700833   29.031667   25.171666   \n",
      "2017-02-15   26.703334   27.996667   26.466667   28.233334   26.193333   \n",
      "2017-02-16   25.917501   28.255000   25.420001   28.752500   24.972501   \n",
      "2017-02-17   25.964167   27.695835   25.730833   27.929169   25.309166   \n",
      "2017-02-21   26.790833   28.784168   26.526666   29.048335   26.038333   \n",
      "...                ...         ...         ...         ...         ...   \n",
      "2022-02-18  220.233332  266.046666  209.466665  276.813334  201.373332   \n",
      "2022-02-22  224.206665  250.333328  218.413330  256.126663  213.566666   \n",
      "2022-02-23  210.936656  254.483342  198.863317  266.556681  192.396647   \n",
      "2022-02-24  199.026657  276.453339  189.153320  286.326675  169.926651   \n",
      "2022-02-25  230.823334  252.916672  227.836670  255.903336  222.463333   \n",
      "\n",
      "                   SMA        ROC  \n",
      "Date                               \n",
      "2017-02-14   27.195000   0.000000  \n",
      "2017-02-15   27.222500   0.000000  \n",
      "2017-02-16   27.031250  -1.406507  \n",
      "2017-02-17   26.810000  -1.623850  \n",
      "2017-02-21   27.287500   3.561771  \n",
      "...                ...        ...  \n",
      "2022-02-18  240.745003 -10.821919  \n",
      "2022-02-22  235.159996  -4.557887  \n",
      "2022-02-23  228.884995  -5.308351  \n",
      "2022-02-24  230.674995   1.530569  \n",
      "2022-02-25  239.525002   7.906380  \n",
      "\n",
      "[1268 rows x 17 columns]\n"
     ]
    }
   ],
   "source": [
    "print(stock_data)"
   ]
  }
 ],
 "metadata": {
  "kernelspec": {
   "display_name": "Python 3 (ipykernel)",
   "language": "python",
   "name": "python3"
  },
  "language_info": {
   "codemirror_mode": {
    "name": "ipython",
    "version": 3
   },
   "file_extension": ".py",
   "mimetype": "text/x-python",
   "name": "python",
   "nbconvert_exporter": "python",
   "pygments_lexer": "ipython3",
   "version": "3.8.2"
  }
 },
 "nbformat": 4,
 "nbformat_minor": 5
}
