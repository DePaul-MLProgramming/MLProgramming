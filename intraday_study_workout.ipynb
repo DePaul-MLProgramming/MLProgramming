{
 "cells": [
  {
   "cell_type": "code",
   "execution_count": 1,
   "id": "584dc965-4f8b-4d5f-85c9-025fa5bd83aa",
   "metadata": {},
   "outputs": [],
   "source": [
    "import pandas as pd\n",
    "import numpy as np\n",
    "import matplotlib.pyplot as plt"
   ]
  },
  {
   "cell_type": "code",
   "execution_count": 3,
   "id": "bb02ed68-7516-4184-ab5d-3d896425bbaf",
   "metadata": {},
   "outputs": [],
   "source": [
    "from mlUtilities import ml_utils"
   ]
  },
  {
   "cell_type": "code",
   "execution_count": 4,
   "id": "64328d80-932f-48b5-b8b3-420642f0df9f",
   "metadata": {},
   "outputs": [],
   "source": [
    "import mlUtilities as utils\n",
    "from mlUtilities import data_utils"
   ]
  },
  {
   "cell_type": "code",
   "execution_count": 5,
   "id": "9140d203-57f9-4404-9ac3-9267868b9a28",
   "metadata": {},
   "outputs": [],
   "source": [
    "from importlib import reload"
   ]
  },
  {
   "cell_type": "code",
   "execution_count": 6,
   "id": "4c630b3a-268a-40f1-a5af-934dfe69861f",
   "metadata": {},
   "outputs": [
    {
     "data": {
      "text/plain": [
       "<module 'mlUtilities.data_utils' from '/home/gsandoval/Documents/Classes/depaul/ML_Programming/Project/MLProgramming/mlUtilities/data_utils.py'>"
      ]
     },
     "execution_count": 6,
     "metadata": {},
     "output_type": "execute_result"
    }
   ],
   "source": [
    "reload(data_utils)"
   ]
  },
  {
   "cell_type": "markdown",
   "id": "fe17efde-b9f3-4206-bfb8-4b0824b645f7",
   "metadata": {},
   "source": [
    "# Import data"
   ]
  },
  {
   "cell_type": "code",
   "execution_count": 7,
   "id": "37b8a91c-f92b-46e8-b0b8-fac76f08a3ae",
   "metadata": {},
   "outputs": [],
   "source": [
    "data_5m = pd.read_csv('Data/5m_SPY')\n",
    "data_5m['Datetime'] = pd.to_datetime(data_5m['Datetime'])"
   ]
  },
  {
   "cell_type": "markdown",
   "id": "cd2210f7-9125-43f3-9bdb-3d313e65bdd0",
   "metadata": {},
   "source": [
    "### Intraday Data: 5 minute interval"
   ]
  },
  {
   "cell_type": "code",
   "execution_count": 8,
   "id": "fd836e8c-4f1c-416b-8973-c6f555997dee",
   "metadata": {},
   "outputs": [
    {
     "data": {
      "text/plain": [
       "(4645, 7)"
      ]
     },
     "execution_count": 8,
     "metadata": {},
     "output_type": "execute_result"
    }
   ],
   "source": [
    "data_5m.shape"
   ]
  },
  {
   "cell_type": "code",
   "execution_count": 9,
   "id": "4be5d65f-302e-4885-b428-94c825028129",
   "metadata": {},
   "outputs": [
    {
     "data": {
      "text/html": [
       "<div>\n",
       "<style scoped>\n",
       "    .dataframe tbody tr th:only-of-type {\n",
       "        vertical-align: middle;\n",
       "    }\n",
       "\n",
       "    .dataframe tbody tr th {\n",
       "        vertical-align: top;\n",
       "    }\n",
       "\n",
       "    .dataframe thead th {\n",
       "        text-align: right;\n",
       "    }\n",
       "</style>\n",
       "<table border=\"1\" class=\"dataframe\">\n",
       "  <thead>\n",
       "    <tr style=\"text-align: right;\">\n",
       "      <th></th>\n",
       "      <th>Datetime</th>\n",
       "      <th>Open</th>\n",
       "      <th>High</th>\n",
       "      <th>Low</th>\n",
       "      <th>Close</th>\n",
       "      <th>Adj Close</th>\n",
       "      <th>Volume</th>\n",
       "    </tr>\n",
       "  </thead>\n",
       "  <tbody>\n",
       "    <tr>\n",
       "      <th>0</th>\n",
       "      <td>2021-11-17 09:30:00-05:00</td>\n",
       "      <td>469.000000</td>\n",
       "      <td>469.040009</td>\n",
       "      <td>468.450012</td>\n",
       "      <td>468.519989</td>\n",
       "      <td>468.519989</td>\n",
       "      <td>2523699</td>\n",
       "    </tr>\n",
       "    <tr>\n",
       "      <th>1</th>\n",
       "      <td>2021-11-17 09:35:00-05:00</td>\n",
       "      <td>468.529999</td>\n",
       "      <td>468.540009</td>\n",
       "      <td>468.160004</td>\n",
       "      <td>468.320007</td>\n",
       "      <td>468.320007</td>\n",
       "      <td>836314</td>\n",
       "    </tr>\n",
       "    <tr>\n",
       "      <th>2</th>\n",
       "      <td>2021-11-17 09:40:00-05:00</td>\n",
       "      <td>468.320007</td>\n",
       "      <td>468.524994</td>\n",
       "      <td>468.160004</td>\n",
       "      <td>468.450012</td>\n",
       "      <td>468.450012</td>\n",
       "      <td>577620</td>\n",
       "    </tr>\n",
       "    <tr>\n",
       "      <th>3</th>\n",
       "      <td>2021-11-17 09:45:00-05:00</td>\n",
       "      <td>468.450012</td>\n",
       "      <td>468.640015</td>\n",
       "      <td>468.130005</td>\n",
       "      <td>468.135010</td>\n",
       "      <td>468.135010</td>\n",
       "      <td>865588</td>\n",
       "    </tr>\n",
       "    <tr>\n",
       "      <th>4</th>\n",
       "      <td>2021-11-17 09:50:00-05:00</td>\n",
       "      <td>468.135010</td>\n",
       "      <td>468.135010</td>\n",
       "      <td>467.579987</td>\n",
       "      <td>467.670013</td>\n",
       "      <td>467.670013</td>\n",
       "      <td>951646</td>\n",
       "    </tr>\n",
       "  </tbody>\n",
       "</table>\n",
       "</div>"
      ],
      "text/plain": [
       "                   Datetime        Open        High         Low       Close  \\\n",
       "0 2021-11-17 09:30:00-05:00  469.000000  469.040009  468.450012  468.519989   \n",
       "1 2021-11-17 09:35:00-05:00  468.529999  468.540009  468.160004  468.320007   \n",
       "2 2021-11-17 09:40:00-05:00  468.320007  468.524994  468.160004  468.450012   \n",
       "3 2021-11-17 09:45:00-05:00  468.450012  468.640015  468.130005  468.135010   \n",
       "4 2021-11-17 09:50:00-05:00  468.135010  468.135010  467.579987  467.670013   \n",
       "\n",
       "    Adj Close   Volume  \n",
       "0  468.519989  2523699  \n",
       "1  468.320007   836314  \n",
       "2  468.450012   577620  \n",
       "3  468.135010   865588  \n",
       "4  467.670013   951646  "
      ]
     },
     "execution_count": 9,
     "metadata": {},
     "output_type": "execute_result"
    }
   ],
   "source": [
    "data_5m.head()"
   ]
  },
  {
   "cell_type": "code",
   "execution_count": 10,
   "id": "99bc9462-185f-4c97-b81b-1466764198e8",
   "metadata": {},
   "outputs": [
    {
     "data": {
      "text/html": [
       "<div>\n",
       "<style scoped>\n",
       "    .dataframe tbody tr th:only-of-type {\n",
       "        vertical-align: middle;\n",
       "    }\n",
       "\n",
       "    .dataframe tbody tr th {\n",
       "        vertical-align: top;\n",
       "    }\n",
       "\n",
       "    .dataframe thead th {\n",
       "        text-align: right;\n",
       "    }\n",
       "</style>\n",
       "<table border=\"1\" class=\"dataframe\">\n",
       "  <thead>\n",
       "    <tr style=\"text-align: right;\">\n",
       "      <th></th>\n",
       "      <th>Datetime</th>\n",
       "      <th>Open</th>\n",
       "      <th>High</th>\n",
       "      <th>Low</th>\n",
       "      <th>Close</th>\n",
       "      <th>Adj Close</th>\n",
       "      <th>Volume</th>\n",
       "    </tr>\n",
       "  </thead>\n",
       "  <tbody>\n",
       "    <tr>\n",
       "      <th>4640</th>\n",
       "      <td>2022-02-11 15:35:00-05:00</td>\n",
       "      <td>441.029999</td>\n",
       "      <td>441.179993</td>\n",
       "      <td>440.029999</td>\n",
       "      <td>440.179993</td>\n",
       "      <td>440.179993</td>\n",
       "      <td>1601599</td>\n",
       "    </tr>\n",
       "    <tr>\n",
       "      <th>4641</th>\n",
       "      <td>2022-02-11 15:40:00-05:00</td>\n",
       "      <td>440.184998</td>\n",
       "      <td>440.399994</td>\n",
       "      <td>438.940002</td>\n",
       "      <td>440.010010</td>\n",
       "      <td>440.010010</td>\n",
       "      <td>3311310</td>\n",
       "    </tr>\n",
       "    <tr>\n",
       "      <th>4642</th>\n",
       "      <td>2022-02-11 15:45:00-05:00</td>\n",
       "      <td>440.016998</td>\n",
       "      <td>441.899994</td>\n",
       "      <td>439.880005</td>\n",
       "      <td>441.880005</td>\n",
       "      <td>441.880005</td>\n",
       "      <td>3145283</td>\n",
       "    </tr>\n",
       "    <tr>\n",
       "      <th>4643</th>\n",
       "      <td>2022-02-11 15:50:00-05:00</td>\n",
       "      <td>441.890015</td>\n",
       "      <td>442.209991</td>\n",
       "      <td>440.820007</td>\n",
       "      <td>441.119995</td>\n",
       "      <td>441.119995</td>\n",
       "      <td>4522462</td>\n",
       "    </tr>\n",
       "    <tr>\n",
       "      <th>4644</th>\n",
       "      <td>2022-02-11 15:55:00-05:00</td>\n",
       "      <td>441.130005</td>\n",
       "      <td>442.519989</td>\n",
       "      <td>440.420013</td>\n",
       "      <td>440.500000</td>\n",
       "      <td>440.500000</td>\n",
       "      <td>7761179</td>\n",
       "    </tr>\n",
       "  </tbody>\n",
       "</table>\n",
       "</div>"
      ],
      "text/plain": [
       "                      Datetime        Open        High         Low  \\\n",
       "4640 2022-02-11 15:35:00-05:00  441.029999  441.179993  440.029999   \n",
       "4641 2022-02-11 15:40:00-05:00  440.184998  440.399994  438.940002   \n",
       "4642 2022-02-11 15:45:00-05:00  440.016998  441.899994  439.880005   \n",
       "4643 2022-02-11 15:50:00-05:00  441.890015  442.209991  440.820007   \n",
       "4644 2022-02-11 15:55:00-05:00  441.130005  442.519989  440.420013   \n",
       "\n",
       "           Close   Adj Close   Volume  \n",
       "4640  440.179993  440.179993  1601599  \n",
       "4641  440.010010  440.010010  3311310  \n",
       "4642  441.880005  441.880005  3145283  \n",
       "4643  441.119995  441.119995  4522462  \n",
       "4644  440.500000  440.500000  7761179  "
      ]
     },
     "execution_count": 10,
     "metadata": {},
     "output_type": "execute_result"
    }
   ],
   "source": [
    "data_5m.tail()"
   ]
  },
  {
   "cell_type": "markdown",
   "id": "289cbb5e-8707-46b4-9208-a101bb9fd0c6",
   "metadata": {},
   "source": [
    "### Daily Data"
   ]
  },
  {
   "cell_type": "code",
   "execution_count": 11,
   "id": "cec9789a-b999-42fe-9129-deee9e3acb84",
   "metadata": {},
   "outputs": [],
   "source": [
    "data_d = pd.read_csv('Data/1d_SPY')\n",
    "data_d['Date'] = pd.to_datetime(data_d['Date'])"
   ]
  },
  {
   "cell_type": "code",
   "execution_count": 12,
   "id": "52d4ea2a-de48-4786-84b1-156404b883c0",
   "metadata": {},
   "outputs": [],
   "source": [
    "data_d = data_d.loc[data_d.Date > '2021-11-16'].copy()\n",
    "data_d.reset_index(drop=True, inplace=True)"
   ]
  },
  {
   "cell_type": "code",
   "execution_count": 13,
   "id": "66c16b09-9ed4-406f-9fe3-10956997eb73",
   "metadata": {},
   "outputs": [
    {
     "data": {
      "text/html": [
       "<div>\n",
       "<style scoped>\n",
       "    .dataframe tbody tr th:only-of-type {\n",
       "        vertical-align: middle;\n",
       "    }\n",
       "\n",
       "    .dataframe tbody tr th {\n",
       "        vertical-align: top;\n",
       "    }\n",
       "\n",
       "    .dataframe thead th {\n",
       "        text-align: right;\n",
       "    }\n",
       "</style>\n",
       "<table border=\"1\" class=\"dataframe\">\n",
       "  <thead>\n",
       "    <tr style=\"text-align: right;\">\n",
       "      <th></th>\n",
       "      <th>Date</th>\n",
       "      <th>High</th>\n",
       "      <th>Low</th>\n",
       "      <th>Open</th>\n",
       "      <th>Close</th>\n",
       "      <th>Volume</th>\n",
       "      <th>Adj Close</th>\n",
       "    </tr>\n",
       "  </thead>\n",
       "  <tbody>\n",
       "    <tr>\n",
       "      <th>0</th>\n",
       "      <td>2021-11-17</td>\n",
       "      <td>469.190002</td>\n",
       "      <td>467.480011</td>\n",
       "      <td>469.000000</td>\n",
       "      <td>468.140015</td>\n",
       "      <td>47858300.0</td>\n",
       "      <td>466.501099</td>\n",
       "    </tr>\n",
       "    <tr>\n",
       "      <th>1</th>\n",
       "      <td>2021-11-18</td>\n",
       "      <td>470.010010</td>\n",
       "      <td>466.339996</td>\n",
       "      <td>469.239990</td>\n",
       "      <td>469.730011</td>\n",
       "      <td>50625600.0</td>\n",
       "      <td>468.085510</td>\n",
       "    </tr>\n",
       "    <tr>\n",
       "      <th>2</th>\n",
       "      <td>2021-11-19</td>\n",
       "      <td>470.940002</td>\n",
       "      <td>468.500000</td>\n",
       "      <td>469.609985</td>\n",
       "      <td>468.890015</td>\n",
       "      <td>57315600.0</td>\n",
       "      <td>467.248474</td>\n",
       "    </tr>\n",
       "    <tr>\n",
       "      <th>3</th>\n",
       "      <td>2021-11-22</td>\n",
       "      <td>473.540009</td>\n",
       "      <td>467.350006</td>\n",
       "      <td>470.890015</td>\n",
       "      <td>467.570007</td>\n",
       "      <td>72762000.0</td>\n",
       "      <td>465.933075</td>\n",
       "    </tr>\n",
       "    <tr>\n",
       "      <th>4</th>\n",
       "      <td>2021-11-23</td>\n",
       "      <td>469.100006</td>\n",
       "      <td>464.450012</td>\n",
       "      <td>467.220001</td>\n",
       "      <td>468.190002</td>\n",
       "      <td>73206500.0</td>\n",
       "      <td>466.550903</td>\n",
       "    </tr>\n",
       "  </tbody>\n",
       "</table>\n",
       "</div>"
      ],
      "text/plain": [
       "        Date        High         Low        Open       Close      Volume  \\\n",
       "0 2021-11-17  469.190002  467.480011  469.000000  468.140015  47858300.0   \n",
       "1 2021-11-18  470.010010  466.339996  469.239990  469.730011  50625600.0   \n",
       "2 2021-11-19  470.940002  468.500000  469.609985  468.890015  57315600.0   \n",
       "3 2021-11-22  473.540009  467.350006  470.890015  467.570007  72762000.0   \n",
       "4 2021-11-23  469.100006  464.450012  467.220001  468.190002  73206500.0   \n",
       "\n",
       "    Adj Close  \n",
       "0  466.501099  \n",
       "1  468.085510  \n",
       "2  467.248474  \n",
       "3  465.933075  \n",
       "4  466.550903  "
      ]
     },
     "execution_count": 13,
     "metadata": {},
     "output_type": "execute_result"
    }
   ],
   "source": [
    "data_d.head()"
   ]
  },
  {
   "cell_type": "code",
   "execution_count": 14,
   "id": "0c7916a8-30b9-4fa1-8894-8768646d278b",
   "metadata": {},
   "outputs": [
    {
     "data": {
      "text/html": [
       "<div>\n",
       "<style scoped>\n",
       "    .dataframe tbody tr th:only-of-type {\n",
       "        vertical-align: middle;\n",
       "    }\n",
       "\n",
       "    .dataframe tbody tr th {\n",
       "        vertical-align: top;\n",
       "    }\n",
       "\n",
       "    .dataframe thead th {\n",
       "        text-align: right;\n",
       "    }\n",
       "</style>\n",
       "<table border=\"1\" class=\"dataframe\">\n",
       "  <thead>\n",
       "    <tr style=\"text-align: right;\">\n",
       "      <th></th>\n",
       "      <th>Date</th>\n",
       "      <th>High</th>\n",
       "      <th>Low</th>\n",
       "      <th>Open</th>\n",
       "      <th>Close</th>\n",
       "      <th>Volume</th>\n",
       "      <th>Adj Close</th>\n",
       "    </tr>\n",
       "  </thead>\n",
       "  <tbody>\n",
       "    <tr>\n",
       "      <th>55</th>\n",
       "      <td>2022-02-07</td>\n",
       "      <td>450.989990</td>\n",
       "      <td>445.850006</td>\n",
       "      <td>449.510010</td>\n",
       "      <td>447.260010</td>\n",
       "      <td>84472900.0</td>\n",
       "      <td>447.260010</td>\n",
       "    </tr>\n",
       "    <tr>\n",
       "      <th>56</th>\n",
       "      <td>2022-02-08</td>\n",
       "      <td>451.920013</td>\n",
       "      <td>445.220001</td>\n",
       "      <td>446.730011</td>\n",
       "      <td>450.940002</td>\n",
       "      <td>81012000.0</td>\n",
       "      <td>450.940002</td>\n",
       "    </tr>\n",
       "    <tr>\n",
       "      <th>57</th>\n",
       "      <td>2022-02-09</td>\n",
       "      <td>457.880005</td>\n",
       "      <td>455.010010</td>\n",
       "      <td>455.220001</td>\n",
       "      <td>457.540009</td>\n",
       "      <td>92589900.0</td>\n",
       "      <td>457.540009</td>\n",
       "    </tr>\n",
       "    <tr>\n",
       "      <th>58</th>\n",
       "      <td>2022-02-10</td>\n",
       "      <td>457.709991</td>\n",
       "      <td>447.200012</td>\n",
       "      <td>451.339996</td>\n",
       "      <td>449.320007</td>\n",
       "      <td>140103700.0</td>\n",
       "      <td>449.320007</td>\n",
       "    </tr>\n",
       "    <tr>\n",
       "      <th>59</th>\n",
       "      <td>2022-02-11</td>\n",
       "      <td>451.609985</td>\n",
       "      <td>438.940002</td>\n",
       "      <td>449.410004</td>\n",
       "      <td>440.459991</td>\n",
       "      <td>153064100.0</td>\n",
       "      <td>440.459991</td>\n",
       "    </tr>\n",
       "  </tbody>\n",
       "</table>\n",
       "</div>"
      ],
      "text/plain": [
       "         Date        High         Low        Open       Close       Volume  \\\n",
       "55 2022-02-07  450.989990  445.850006  449.510010  447.260010   84472900.0   \n",
       "56 2022-02-08  451.920013  445.220001  446.730011  450.940002   81012000.0   \n",
       "57 2022-02-09  457.880005  455.010010  455.220001  457.540009   92589900.0   \n",
       "58 2022-02-10  457.709991  447.200012  451.339996  449.320007  140103700.0   \n",
       "59 2022-02-11  451.609985  438.940002  449.410004  440.459991  153064100.0   \n",
       "\n",
       "     Adj Close  \n",
       "55  447.260010  \n",
       "56  450.940002  \n",
       "57  457.540009  \n",
       "58  449.320007  \n",
       "59  440.459991  "
      ]
     },
     "execution_count": 14,
     "metadata": {},
     "output_type": "execute_result"
    }
   ],
   "source": [
    "data_d.tail()"
   ]
  },
  {
   "cell_type": "markdown",
   "id": "12148bf2-7998-42ab-8f5f-5f69189d662a",
   "metadata": {},
   "source": [
    "I should add change data before filtering by the date."
   ]
  },
  {
   "cell_type": "markdown",
   "id": "18e11e21-5a82-4aec-8409-2299a0a5b581",
   "metadata": {
    "tags": []
   },
   "source": [
    "# Data Transformations"
   ]
  },
  {
   "cell_type": "markdown",
   "id": "42d87e3f-6db3-40ca-b01a-d87fe61cbc21",
   "metadata": {
    "tags": []
   },
   "source": [
    "## Create Change Data\n",
    "\n",
    "To start we will calcualte the change over n time period.\n",
    "\n",
    "We will use: \n",
    "$change_n = \\dfrac{Close_n - Open_i-n}{Open_i-n}$\n",
    "\n",
    "Where $i$ is the current period.  So change_0 is the change of the current time period, change_5 is the change starting from 5 periods ago to the current close.\n",
    "\n",
    "### Lets look at change_0"
   ]
  },
  {
   "cell_type": "code",
   "execution_count": 15,
   "id": "8b9229f2-a65c-4e23-889f-2afa9cadfa13",
   "metadata": {
    "tags": []
   },
   "outputs": [],
   "source": [
    "data_5m = utils.change_n(data_5m, 1)\n",
    "data_5m['Change_0'] = (data_5m['Close'] - data_5m['Open']) / data_5m['Open']"
   ]
  },
  {
   "cell_type": "code",
   "execution_count": 16,
   "id": "69d432dc-e83b-40aa-a5a3-1cd57ce1479a",
   "metadata": {},
   "outputs": [
    {
     "data": {
      "text/html": [
       "<div>\n",
       "<style scoped>\n",
       "    .dataframe tbody tr th:only-of-type {\n",
       "        vertical-align: middle;\n",
       "    }\n",
       "\n",
       "    .dataframe tbody tr th {\n",
       "        vertical-align: top;\n",
       "    }\n",
       "\n",
       "    .dataframe thead th {\n",
       "        text-align: right;\n",
       "    }\n",
       "</style>\n",
       "<table border=\"1\" class=\"dataframe\">\n",
       "  <thead>\n",
       "    <tr style=\"text-align: right;\">\n",
       "      <th></th>\n",
       "      <th>Datetime</th>\n",
       "      <th>Open</th>\n",
       "      <th>High</th>\n",
       "      <th>Low</th>\n",
       "      <th>Close</th>\n",
       "      <th>Adj Close</th>\n",
       "      <th>Volume</th>\n",
       "      <th>change_1</th>\n",
       "      <th>Change_0</th>\n",
       "    </tr>\n",
       "  </thead>\n",
       "  <tbody>\n",
       "    <tr>\n",
       "      <th>0</th>\n",
       "      <td>2021-11-17 09:30:00-05:00</td>\n",
       "      <td>469.000000</td>\n",
       "      <td>469.040009</td>\n",
       "      <td>468.450012</td>\n",
       "      <td>468.519989</td>\n",
       "      <td>468.519989</td>\n",
       "      <td>2523699</td>\n",
       "      <td>NaN</td>\n",
       "      <td>-0.001023</td>\n",
       "    </tr>\n",
       "    <tr>\n",
       "      <th>1</th>\n",
       "      <td>2021-11-17 09:35:00-05:00</td>\n",
       "      <td>468.529999</td>\n",
       "      <td>468.540009</td>\n",
       "      <td>468.160004</td>\n",
       "      <td>468.320007</td>\n",
       "      <td>468.320007</td>\n",
       "      <td>836314</td>\n",
       "      <td>-0.000427</td>\n",
       "      <td>-0.000448</td>\n",
       "    </tr>\n",
       "    <tr>\n",
       "      <th>2</th>\n",
       "      <td>2021-11-17 09:40:00-05:00</td>\n",
       "      <td>468.320007</td>\n",
       "      <td>468.524994</td>\n",
       "      <td>468.160004</td>\n",
       "      <td>468.450012</td>\n",
       "      <td>468.450012</td>\n",
       "      <td>577620</td>\n",
       "      <td>0.000278</td>\n",
       "      <td>0.000278</td>\n",
       "    </tr>\n",
       "    <tr>\n",
       "      <th>3</th>\n",
       "      <td>2021-11-17 09:45:00-05:00</td>\n",
       "      <td>468.450012</td>\n",
       "      <td>468.640015</td>\n",
       "      <td>468.130005</td>\n",
       "      <td>468.135010</td>\n",
       "      <td>468.135010</td>\n",
       "      <td>865588</td>\n",
       "      <td>-0.000672</td>\n",
       "      <td>-0.000672</td>\n",
       "    </tr>\n",
       "    <tr>\n",
       "      <th>4</th>\n",
       "      <td>2021-11-17 09:50:00-05:00</td>\n",
       "      <td>468.135010</td>\n",
       "      <td>468.135010</td>\n",
       "      <td>467.579987</td>\n",
       "      <td>467.670013</td>\n",
       "      <td>467.670013</td>\n",
       "      <td>951646</td>\n",
       "      <td>-0.000993</td>\n",
       "      <td>-0.000993</td>\n",
       "    </tr>\n",
       "  </tbody>\n",
       "</table>\n",
       "</div>"
      ],
      "text/plain": [
       "                   Datetime        Open        High         Low       Close  \\\n",
       "0 2021-11-17 09:30:00-05:00  469.000000  469.040009  468.450012  468.519989   \n",
       "1 2021-11-17 09:35:00-05:00  468.529999  468.540009  468.160004  468.320007   \n",
       "2 2021-11-17 09:40:00-05:00  468.320007  468.524994  468.160004  468.450012   \n",
       "3 2021-11-17 09:45:00-05:00  468.450012  468.640015  468.130005  468.135010   \n",
       "4 2021-11-17 09:50:00-05:00  468.135010  468.135010  467.579987  467.670013   \n",
       "\n",
       "    Adj Close   Volume  change_1  Change_0  \n",
       "0  468.519989  2523699       NaN -0.001023  \n",
       "1  468.320007   836314 -0.000427 -0.000448  \n",
       "2  468.450012   577620  0.000278  0.000278  \n",
       "3  468.135010   865588 -0.000672 -0.000672  \n",
       "4  467.670013   951646 -0.000993 -0.000993  "
      ]
     },
     "execution_count": 16,
     "metadata": {},
     "output_type": "execute_result"
    }
   ],
   "source": [
    "data_5m.head()"
   ]
  },
  {
   "cell_type": "markdown",
   "id": "687dfb79-642e-4a76-ac86-53cf685c92e4",
   "metadata": {},
   "source": [
    "## Analysis with Normalized Volume from the start"
   ]
  },
  {
   "cell_type": "code",
   "execution_count": 19,
   "id": "39a3bb94-0426-4e9b-ba9a-5748cad1d584",
   "metadata": {},
   "outputs": [],
   "source": [
    "data_5m['Volume'] = data_utils.min_max_normalize(data_5m['Volume'], 0, 5)\n",
    "data_d['Volume'] = data_utils.min_max_normalize(data_d['Volume'], 0, 5)"
   ]
  },
  {
   "cell_type": "markdown",
   "id": "5cb5eee7-1b7b-4aaa-9118-b8da1a70f2fd",
   "metadata": {},
   "source": [
    "### Add volume tide"
   ]
  },
  {
   "cell_type": "code",
   "execution_count": 20,
   "id": "791c9971-df3a-4027-8076-bdfa6eb1f010",
   "metadata": {},
   "outputs": [],
   "source": [
    "data_5m = data_utils.vol_tide(data_5m)"
   ]
  },
  {
   "cell_type": "code",
   "execution_count": 21,
   "id": "5643afab-c7c3-4548-b9f6-76c72f1a5964",
   "metadata": {},
   "outputs": [
    {
     "data": {
      "text/html": [
       "<div>\n",
       "<style scoped>\n",
       "    .dataframe tbody tr th:only-of-type {\n",
       "        vertical-align: middle;\n",
       "    }\n",
       "\n",
       "    .dataframe tbody tr th {\n",
       "        vertical-align: top;\n",
       "    }\n",
       "\n",
       "    .dataframe thead th {\n",
       "        text-align: right;\n",
       "    }\n",
       "</style>\n",
       "<table border=\"1\" class=\"dataframe\">\n",
       "  <thead>\n",
       "    <tr style=\"text-align: right;\">\n",
       "      <th></th>\n",
       "      <th>Datetime</th>\n",
       "      <th>Open</th>\n",
       "      <th>High</th>\n",
       "      <th>Low</th>\n",
       "      <th>Close</th>\n",
       "      <th>Adj Close</th>\n",
       "      <th>Volume</th>\n",
       "      <th>change_1</th>\n",
       "      <th>Change_0</th>\n",
       "      <th>Vol_Direction</th>\n",
       "      <th>Dir_to_Vol</th>\n",
       "      <th>Vol_Tide</th>\n",
       "    </tr>\n",
       "  </thead>\n",
       "  <tbody>\n",
       "    <tr>\n",
       "      <th>0</th>\n",
       "      <td>2021-11-17 09:30:00-05:00</td>\n",
       "      <td>469.000000</td>\n",
       "      <td>469.040009</td>\n",
       "      <td>468.450012</td>\n",
       "      <td>468.519989</td>\n",
       "      <td>468.519989</td>\n",
       "      <td>0.737352</td>\n",
       "      <td>NaN</td>\n",
       "      <td>-0.001023</td>\n",
       "      <td>NaN</td>\n",
       "      <td>NaN</td>\n",
       "      <td>NaN</td>\n",
       "    </tr>\n",
       "    <tr>\n",
       "      <th>1</th>\n",
       "      <td>2021-11-17 09:35:00-05:00</td>\n",
       "      <td>468.529999</td>\n",
       "      <td>468.540009</td>\n",
       "      <td>468.160004</td>\n",
       "      <td>468.320007</td>\n",
       "      <td>468.320007</td>\n",
       "      <td>0.244347</td>\n",
       "      <td>-0.000427</td>\n",
       "      <td>-0.000448</td>\n",
       "      <td>-1.0</td>\n",
       "      <td>-0.244347</td>\n",
       "      <td>-0.244347</td>\n",
       "    </tr>\n",
       "    <tr>\n",
       "      <th>2</th>\n",
       "      <td>2021-11-17 09:40:00-05:00</td>\n",
       "      <td>468.320007</td>\n",
       "      <td>468.524994</td>\n",
       "      <td>468.160004</td>\n",
       "      <td>468.450012</td>\n",
       "      <td>468.450012</td>\n",
       "      <td>0.168764</td>\n",
       "      <td>0.000278</td>\n",
       "      <td>0.000278</td>\n",
       "      <td>1.0</td>\n",
       "      <td>0.168764</td>\n",
       "      <td>-0.075583</td>\n",
       "    </tr>\n",
       "    <tr>\n",
       "      <th>3</th>\n",
       "      <td>2021-11-17 09:45:00-05:00</td>\n",
       "      <td>468.450012</td>\n",
       "      <td>468.640015</td>\n",
       "      <td>468.130005</td>\n",
       "      <td>468.135010</td>\n",
       "      <td>468.135010</td>\n",
       "      <td>0.252900</td>\n",
       "      <td>-0.000672</td>\n",
       "      <td>-0.000672</td>\n",
       "      <td>-1.0</td>\n",
       "      <td>-0.252900</td>\n",
       "      <td>-0.328483</td>\n",
       "    </tr>\n",
       "    <tr>\n",
       "      <th>4</th>\n",
       "      <td>2021-11-17 09:50:00-05:00</td>\n",
       "      <td>468.135010</td>\n",
       "      <td>468.135010</td>\n",
       "      <td>467.579987</td>\n",
       "      <td>467.670013</td>\n",
       "      <td>467.670013</td>\n",
       "      <td>0.278044</td>\n",
       "      <td>-0.000993</td>\n",
       "      <td>-0.000993</td>\n",
       "      <td>-1.0</td>\n",
       "      <td>-0.278044</td>\n",
       "      <td>-0.606527</td>\n",
       "    </tr>\n",
       "  </tbody>\n",
       "</table>\n",
       "</div>"
      ],
      "text/plain": [
       "                   Datetime        Open        High         Low       Close  \\\n",
       "0 2021-11-17 09:30:00-05:00  469.000000  469.040009  468.450012  468.519989   \n",
       "1 2021-11-17 09:35:00-05:00  468.529999  468.540009  468.160004  468.320007   \n",
       "2 2021-11-17 09:40:00-05:00  468.320007  468.524994  468.160004  468.450012   \n",
       "3 2021-11-17 09:45:00-05:00  468.450012  468.640015  468.130005  468.135010   \n",
       "4 2021-11-17 09:50:00-05:00  468.135010  468.135010  467.579987  467.670013   \n",
       "\n",
       "    Adj Close    Volume  change_1  Change_0  Vol_Direction  Dir_to_Vol  \\\n",
       "0  468.519989  0.737352       NaN -0.001023            NaN         NaN   \n",
       "1  468.320007  0.244347 -0.000427 -0.000448           -1.0   -0.244347   \n",
       "2  468.450012  0.168764  0.000278  0.000278            1.0    0.168764   \n",
       "3  468.135010  0.252900 -0.000672 -0.000672           -1.0   -0.252900   \n",
       "4  467.670013  0.278044 -0.000993 -0.000993           -1.0   -0.278044   \n",
       "\n",
       "   Vol_Tide  \n",
       "0       NaN  \n",
       "1 -0.244347  \n",
       "2 -0.075583  \n",
       "3 -0.328483  \n",
       "4 -0.606527  "
      ]
     },
     "execution_count": 21,
     "metadata": {},
     "output_type": "execute_result"
    }
   ],
   "source": [
    "data_5m.head()"
   ]
  },
  {
   "cell_type": "code",
   "execution_count": 22,
   "id": "133c0244-3e15-427a-bb89-b5c9f14de6ad",
   "metadata": {},
   "outputs": [
    {
     "data": {
      "text/plain": [
       "<AxesSubplot:>"
      ]
     },
     "execution_count": 22,
     "metadata": {},
     "output_type": "execute_result"
    },
    {
     "data": {
      "image/png": "[encoded data removed]",
      "text/plain": [
       "<Figure size 432x288 with 1 Axes>"
      ]
     },
     "metadata": {
      "needs_background": "light"
     },
     "output_type": "display_data"
    }
   ],
   "source": [
    "data_5m.Vol_Tide.plot()"
   ]
  },
  {
   "cell_type": "markdown",
   "id": "82fc4a42-756f-4814-beaa-6dd713e2d724",
   "metadata": {},
   "source": [
    "Get the last value of the day for Vol_Tide.  \n",
    "\n",
    "Merge the values into the daily data df."
   ]
  },
  {
   "cell_type": "code",
   "execution_count": 23,
   "id": "d774696a-7c1b-4783-a8e9-e0dee30a14fb",
   "metadata": {},
   "outputs": [],
   "source": [
    "eod_vol_tide = data_5m.groupby([data_5m.Datetime.dt.date])['Dir_to_Vol'].sum()"
   ]
  },
  {
   "cell_type": "markdown",
   "id": "37d7e383-84dd-44f3-bafe-8b11bde1c8ad",
   "metadata": {},
   "source": [
    "Add the End Of Day (EOD) Vol Tide to the daily dataframe."
   ]
  },
  {
   "cell_type": "code",
   "execution_count": 24,
   "id": "96da5f51-e6a4-4521-8bca-dbda1e50857f",
   "metadata": {},
   "outputs": [],
   "source": [
    "data_d['EOD_Vol_Tide'] = eod_vol_tide.values"
   ]
  },
  {
   "cell_type": "code",
   "execution_count": 25,
   "id": "9dbc9b89-1da9-4904-828f-5de5f544dfe3",
   "metadata": {},
   "outputs": [
    {
     "data": {
      "text/html": [
       "<div>\n",
       "<style scoped>\n",
       "    .dataframe tbody tr th:only-of-type {\n",
       "        vertical-align: middle;\n",
       "    }\n",
       "\n",
       "    .dataframe tbody tr th {\n",
       "        vertical-align: top;\n",
       "    }\n",
       "\n",
       "    .dataframe thead th {\n",
       "        text-align: right;\n",
       "    }\n",
       "</style>\n",
       "<table border=\"1\" class=\"dataframe\">\n",
       "  <thead>\n",
       "    <tr style=\"text-align: right;\">\n",
       "      <th></th>\n",
       "      <th>Date</th>\n",
       "      <th>High</th>\n",
       "      <th>Low</th>\n",
       "      <th>Open</th>\n",
       "      <th>Close</th>\n",
       "      <th>Volume</th>\n",
       "      <th>Adj Close</th>\n",
       "      <th>EOD_Vol_Tide</th>\n",
       "    </tr>\n",
       "  </thead>\n",
       "  <tbody>\n",
       "    <tr>\n",
       "      <th>0</th>\n",
       "      <td>2021-11-17</td>\n",
       "      <td>469.190002</td>\n",
       "      <td>467.480011</td>\n",
       "      <td>469.000000</td>\n",
       "      <td>468.140015</td>\n",
       "      <td>0.014271</td>\n",
       "      <td>466.501099</td>\n",
       "      <td>-0.868448</td>\n",
       "    </tr>\n",
       "    <tr>\n",
       "      <th>1</th>\n",
       "      <td>2021-11-18</td>\n",
       "      <td>470.010010</td>\n",
       "      <td>466.339996</td>\n",
       "      <td>469.239990</td>\n",
       "      <td>469.730011</td>\n",
       "      <td>0.081928</td>\n",
       "      <td>468.085510</td>\n",
       "      <td>2.212248</td>\n",
       "    </tr>\n",
       "    <tr>\n",
       "      <th>2</th>\n",
       "      <td>2021-11-19</td>\n",
       "      <td>470.940002</td>\n",
       "      <td>468.500000</td>\n",
       "      <td>469.609985</td>\n",
       "      <td>468.890015</td>\n",
       "      <td>0.245490</td>\n",
       "      <td>467.248474</td>\n",
       "      <td>1.092567</td>\n",
       "    </tr>\n",
       "    <tr>\n",
       "      <th>3</th>\n",
       "      <td>2021-11-22</td>\n",
       "      <td>473.540009</td>\n",
       "      <td>467.350006</td>\n",
       "      <td>470.890015</td>\n",
       "      <td>467.570007</td>\n",
       "      <td>0.623135</td>\n",
       "      <td>465.933075</td>\n",
       "      <td>-3.064953</td>\n",
       "    </tr>\n",
       "    <tr>\n",
       "      <th>4</th>\n",
       "      <td>2021-11-23</td>\n",
       "      <td>469.100006</td>\n",
       "      <td>464.450012</td>\n",
       "      <td>467.220001</td>\n",
       "      <td>468.190002</td>\n",
       "      <td>0.634003</td>\n",
       "      <td>466.550903</td>\n",
       "      <td>-0.579285</td>\n",
       "    </tr>\n",
       "  </tbody>\n",
       "</table>\n",
       "</div>"
      ],
      "text/plain": [
       "        Date        High         Low        Open       Close    Volume  \\\n",
       "0 2021-11-17  469.190002  467.480011  469.000000  468.140015  0.014271   \n",
       "1 2021-11-18  470.010010  466.339996  469.239990  469.730011  0.081928   \n",
       "2 2021-11-19  470.940002  468.500000  469.609985  468.890015  0.245490   \n",
       "3 2021-11-22  473.540009  467.350006  470.890015  467.570007  0.623135   \n",
       "4 2021-11-23  469.100006  464.450012  467.220001  468.190002  0.634003   \n",
       "\n",
       "    Adj Close  EOD_Vol_Tide  \n",
       "0  466.501099     -0.868448  \n",
       "1  468.085510      2.212248  \n",
       "2  467.248474      1.092567  \n",
       "3  465.933075     -3.064953  \n",
       "4  466.550903     -0.579285  "
      ]
     },
     "execution_count": 25,
     "metadata": {},
     "output_type": "execute_result"
    }
   ],
   "source": [
    "data_d.head()"
   ]
  },
  {
   "cell_type": "markdown",
   "id": "50902895-6c87-4fa5-a1e8-b0f923ca7299",
   "metadata": {},
   "source": [
    "## Non-Normalized Volume Study\n",
    "\n",
    "Normalize the volume data after creating the volume based variables."
   ]
  },
  {
   "cell_type": "code",
   "execution_count": 26,
   "id": "23ea7f9b-67c9-4c2b-8dd2-d27760563793",
   "metadata": {},
   "outputs": [],
   "source": [
    "data2_5m = pd.read_csv('Data/5m_SPY')\n",
    "data2_5m['Datetime'] = pd.to_datetime(data2_5m['Datetime'])\n",
    "\n",
    "data2_d = pd.read_csv('Data/1d_SPY')\n",
    "data2_d['Date'] = pd.to_datetime(data2_d['Date'])\n",
    "data2_d = data2_d.loc[data2_d.Date > '2021-11-16'].copy()\n",
    "data2_d.reset_index(drop=True, inplace=True)"
   ]
  },
  {
   "cell_type": "code",
   "execution_count": 27,
   "id": "05ea84ec-54e3-4bf6-bee5-d7c88d4834b9",
   "metadata": {},
   "outputs": [
    {
     "data": {
      "text/html": [
       "<div>\n",
       "<style scoped>\n",
       "    .dataframe tbody tr th:only-of-type {\n",
       "        vertical-align: middle;\n",
       "    }\n",
       "\n",
       "    .dataframe tbody tr th {\n",
       "        vertical-align: top;\n",
       "    }\n",
       "\n",
       "    .dataframe thead th {\n",
       "        text-align: right;\n",
       "    }\n",
       "</style>\n",
       "<table border=\"1\" class=\"dataframe\">\n",
       "  <thead>\n",
       "    <tr style=\"text-align: right;\">\n",
       "      <th></th>\n",
       "      <th>Date</th>\n",
       "      <th>High</th>\n",
       "      <th>Low</th>\n",
       "      <th>Open</th>\n",
       "      <th>Close</th>\n",
       "      <th>Volume</th>\n",
       "      <th>Adj Close</th>\n",
       "    </tr>\n",
       "  </thead>\n",
       "  <tbody>\n",
       "    <tr>\n",
       "      <th>0</th>\n",
       "      <td>2021-11-17</td>\n",
       "      <td>469.190002</td>\n",
       "      <td>467.480011</td>\n",
       "      <td>469.000000</td>\n",
       "      <td>468.140015</td>\n",
       "      <td>47858300.0</td>\n",
       "      <td>466.501099</td>\n",
       "    </tr>\n",
       "    <tr>\n",
       "      <th>1</th>\n",
       "      <td>2021-11-18</td>\n",
       "      <td>470.010010</td>\n",
       "      <td>466.339996</td>\n",
       "      <td>469.239990</td>\n",
       "      <td>469.730011</td>\n",
       "      <td>50625600.0</td>\n",
       "      <td>468.085510</td>\n",
       "    </tr>\n",
       "    <tr>\n",
       "      <th>2</th>\n",
       "      <td>2021-11-19</td>\n",
       "      <td>470.940002</td>\n",
       "      <td>468.500000</td>\n",
       "      <td>469.609985</td>\n",
       "      <td>468.890015</td>\n",
       "      <td>57315600.0</td>\n",
       "      <td>467.248474</td>\n",
       "    </tr>\n",
       "    <tr>\n",
       "      <th>3</th>\n",
       "      <td>2021-11-22</td>\n",
       "      <td>473.540009</td>\n",
       "      <td>467.350006</td>\n",
       "      <td>470.890015</td>\n",
       "      <td>467.570007</td>\n",
       "      <td>72762000.0</td>\n",
       "      <td>465.933075</td>\n",
       "    </tr>\n",
       "    <tr>\n",
       "      <th>4</th>\n",
       "      <td>2021-11-23</td>\n",
       "      <td>469.100006</td>\n",
       "      <td>464.450012</td>\n",
       "      <td>467.220001</td>\n",
       "      <td>468.190002</td>\n",
       "      <td>73206500.0</td>\n",
       "      <td>466.550903</td>\n",
       "    </tr>\n",
       "  </tbody>\n",
       "</table>\n",
       "</div>"
      ],
      "text/plain": [
       "        Date        High         Low        Open       Close      Volume  \\\n",
       "0 2021-11-17  469.190002  467.480011  469.000000  468.140015  47858300.0   \n",
       "1 2021-11-18  470.010010  466.339996  469.239990  469.730011  50625600.0   \n",
       "2 2021-11-19  470.940002  468.500000  469.609985  468.890015  57315600.0   \n",
       "3 2021-11-22  473.540009  467.350006  470.890015  467.570007  72762000.0   \n",
       "4 2021-11-23  469.100006  464.450012  467.220001  468.190002  73206500.0   \n",
       "\n",
       "    Adj Close  \n",
       "0  466.501099  \n",
       "1  468.085510  \n",
       "2  467.248474  \n",
       "3  465.933075  \n",
       "4  466.550903  "
      ]
     },
     "execution_count": 27,
     "metadata": {},
     "output_type": "execute_result"
    }
   ],
   "source": [
    "data2_d.head()"
   ]
  },
  {
   "cell_type": "code",
   "execution_count": 28,
   "id": "3e474a7b-5c94-485b-bd45-3a0023d6356d",
   "metadata": {},
   "outputs": [
    {
     "data": {
      "text/html": [
       "<div>\n",
       "<style scoped>\n",
       "    .dataframe tbody tr th:only-of-type {\n",
       "        vertical-align: middle;\n",
       "    }\n",
       "\n",
       "    .dataframe tbody tr th {\n",
       "        vertical-align: top;\n",
       "    }\n",
       "\n",
       "    .dataframe thead th {\n",
       "        text-align: right;\n",
       "    }\n",
       "</style>\n",
       "<table border=\"1\" class=\"dataframe\">\n",
       "  <thead>\n",
       "    <tr style=\"text-align: right;\">\n",
       "      <th></th>\n",
       "      <th>Datetime</th>\n",
       "      <th>Open</th>\n",
       "      <th>High</th>\n",
       "      <th>Low</th>\n",
       "      <th>Close</th>\n",
       "      <th>Adj Close</th>\n",
       "      <th>Volume</th>\n",
       "      <th>Vol_Direction</th>\n",
       "      <th>Dir_to_Vol</th>\n",
       "      <th>Vol_Tide</th>\n",
       "    </tr>\n",
       "  </thead>\n",
       "  <tbody>\n",
       "    <tr>\n",
       "      <th>0</th>\n",
       "      <td>2021-11-17 09:30:00-05:00</td>\n",
       "      <td>469.000000</td>\n",
       "      <td>469.040009</td>\n",
       "      <td>468.450012</td>\n",
       "      <td>468.519989</td>\n",
       "      <td>468.519989</td>\n",
       "      <td>2523699</td>\n",
       "      <td>NaN</td>\n",
       "      <td>NaN</td>\n",
       "      <td>NaN</td>\n",
       "    </tr>\n",
       "    <tr>\n",
       "      <th>1</th>\n",
       "      <td>2021-11-17 09:35:00-05:00</td>\n",
       "      <td>468.529999</td>\n",
       "      <td>468.540009</td>\n",
       "      <td>468.160004</td>\n",
       "      <td>468.320007</td>\n",
       "      <td>468.320007</td>\n",
       "      <td>836314</td>\n",
       "      <td>-1.0</td>\n",
       "      <td>-836314.0</td>\n",
       "      <td>-836314.0</td>\n",
       "    </tr>\n",
       "    <tr>\n",
       "      <th>2</th>\n",
       "      <td>2021-11-17 09:40:00-05:00</td>\n",
       "      <td>468.320007</td>\n",
       "      <td>468.524994</td>\n",
       "      <td>468.160004</td>\n",
       "      <td>468.450012</td>\n",
       "      <td>468.450012</td>\n",
       "      <td>577620</td>\n",
       "      <td>1.0</td>\n",
       "      <td>577620.0</td>\n",
       "      <td>-258694.0</td>\n",
       "    </tr>\n",
       "    <tr>\n",
       "      <th>3</th>\n",
       "      <td>2021-11-17 09:45:00-05:00</td>\n",
       "      <td>468.450012</td>\n",
       "      <td>468.640015</td>\n",
       "      <td>468.130005</td>\n",
       "      <td>468.135010</td>\n",
       "      <td>468.135010</td>\n",
       "      <td>865588</td>\n",
       "      <td>-1.0</td>\n",
       "      <td>-865588.0</td>\n",
       "      <td>-1124282.0</td>\n",
       "    </tr>\n",
       "    <tr>\n",
       "      <th>4</th>\n",
       "      <td>2021-11-17 09:50:00-05:00</td>\n",
       "      <td>468.135010</td>\n",
       "      <td>468.135010</td>\n",
       "      <td>467.579987</td>\n",
       "      <td>467.670013</td>\n",
       "      <td>467.670013</td>\n",
       "      <td>951646</td>\n",
       "      <td>-1.0</td>\n",
       "      <td>-951646.0</td>\n",
       "      <td>-2075928.0</td>\n",
       "    </tr>\n",
       "  </tbody>\n",
       "</table>\n",
       "</div>"
      ],
      "text/plain": [
       "                   Datetime        Open        High         Low       Close  \\\n",
       "0 2021-11-17 09:30:00-05:00  469.000000  469.040009  468.450012  468.519989   \n",
       "1 2021-11-17 09:35:00-05:00  468.529999  468.540009  468.160004  468.320007   \n",
       "2 2021-11-17 09:40:00-05:00  468.320007  468.524994  468.160004  468.450012   \n",
       "3 2021-11-17 09:45:00-05:00  468.450012  468.640015  468.130005  468.135010   \n",
       "4 2021-11-17 09:50:00-05:00  468.135010  468.135010  467.579987  467.670013   \n",
       "\n",
       "    Adj Close   Volume  Vol_Direction  Dir_to_Vol   Vol_Tide  \n",
       "0  468.519989  2523699            NaN         NaN        NaN  \n",
       "1  468.320007   836314           -1.0   -836314.0  -836314.0  \n",
       "2  468.450012   577620            1.0    577620.0  -258694.0  \n",
       "3  468.135010   865588           -1.0   -865588.0 -1124282.0  \n",
       "4  467.670013   951646           -1.0   -951646.0 -2075928.0  "
      ]
     },
     "execution_count": 28,
     "metadata": {},
     "output_type": "execute_result"
    }
   ],
   "source": [
    "data2_5m = data_utils.vol_tide(data2_5m)\n",
    "data2_5m.head()"
   ]
  },
  {
   "cell_type": "code",
   "execution_count": 29,
   "id": "7cf7c89c-012b-4917-940c-ad6e64529b78",
   "metadata": {},
   "outputs": [],
   "source": [
    "eod_vol_tide = data2_5m.groupby([data2_5m.Datetime.dt.date])['Dir_to_Vol'].sum()"
   ]
  },
  {
   "cell_type": "code",
   "execution_count": 30,
   "id": "d4813144-7283-4eb7-a22f-b81529ee8bc1",
   "metadata": {},
   "outputs": [],
   "source": [
    "data2_d['EOD_Vol_Tide'] = eod_vol_tide.values"
   ]
  },
  {
   "cell_type": "code",
   "execution_count": 31,
   "id": "b71a6cc4-913f-4e7f-b4b4-ae656737c8f8",
   "metadata": {},
   "outputs": [],
   "source": [
    "data2_d = data_utils.directional_volume(data2_d)"
   ]
  },
  {
   "cell_type": "code",
   "execution_count": 32,
   "id": "9ec9e71d-ee86-4fa3-858f-8aa3f731e6f1",
   "metadata": {},
   "outputs": [],
   "source": [
    "data2_d['Volume_Diff'] = data2_d.Directional_Volume - data2_d.EOD_Vol_Tide"
   ]
  },
  {
   "cell_type": "code",
   "execution_count": 33,
   "id": "e4120e7c-bff0-4565-bde9-dce44e0ae785",
   "metadata": {},
   "outputs": [],
   "source": [
    "data2_d['Vol_Adv_Dec'] = data2_d.Directional_Volume.cumsum()"
   ]
  },
  {
   "cell_type": "code",
   "execution_count": 34,
   "id": "996f3f60-e467-4f7f-a14c-bbc588a3b226",
   "metadata": {},
   "outputs": [
    {
     "data": {
      "text/html": [
       "<div>\n",
       "<style scoped>\n",
       "    .dataframe tbody tr th:only-of-type {\n",
       "        vertical-align: middle;\n",
       "    }\n",
       "\n",
       "    .dataframe tbody tr th {\n",
       "        vertical-align: top;\n",
       "    }\n",
       "\n",
       "    .dataframe thead th {\n",
       "        text-align: right;\n",
       "    }\n",
       "</style>\n",
       "<table border=\"1\" class=\"dataframe\">\n",
       "  <thead>\n",
       "    <tr style=\"text-align: right;\">\n",
       "      <th></th>\n",
       "      <th>Date</th>\n",
       "      <th>High</th>\n",
       "      <th>Low</th>\n",
       "      <th>Open</th>\n",
       "      <th>Close</th>\n",
       "      <th>Volume</th>\n",
       "      <th>Adj Close</th>\n",
       "      <th>EOD_Vol_Tide</th>\n",
       "      <th>Directional_Volume</th>\n",
       "      <th>Volume_Diff</th>\n",
       "      <th>Vol_Adv_Dec</th>\n",
       "    </tr>\n",
       "  </thead>\n",
       "  <tbody>\n",
       "    <tr>\n",
       "      <th>0</th>\n",
       "      <td>2021-11-17</td>\n",
       "      <td>469.190002</td>\n",
       "      <td>467.480011</td>\n",
       "      <td>469.000000</td>\n",
       "      <td>468.140015</td>\n",
       "      <td>47858300.0</td>\n",
       "      <td>466.501099</td>\n",
       "      <td>-2972394.0</td>\n",
       "      <td>-47858300.0</td>\n",
       "      <td>-44885906.0</td>\n",
       "      <td>-47858300.0</td>\n",
       "    </tr>\n",
       "    <tr>\n",
       "      <th>1</th>\n",
       "      <td>2021-11-18</td>\n",
       "      <td>470.010010</td>\n",
       "      <td>466.339996</td>\n",
       "      <td>469.239990</td>\n",
       "      <td>469.730011</td>\n",
       "      <td>50625600.0</td>\n",
       "      <td>468.085510</td>\n",
       "      <td>7571749.0</td>\n",
       "      <td>50625600.0</td>\n",
       "      <td>43053851.0</td>\n",
       "      <td>2767300.0</td>\n",
       "    </tr>\n",
       "    <tr>\n",
       "      <th>2</th>\n",
       "      <td>2021-11-19</td>\n",
       "      <td>470.940002</td>\n",
       "      <td>468.500000</td>\n",
       "      <td>469.609985</td>\n",
       "      <td>468.890015</td>\n",
       "      <td>57315600.0</td>\n",
       "      <td>467.248474</td>\n",
       "      <td>3739474.0</td>\n",
       "      <td>-57315600.0</td>\n",
       "      <td>-61055074.0</td>\n",
       "      <td>-54548300.0</td>\n",
       "    </tr>\n",
       "    <tr>\n",
       "      <th>3</th>\n",
       "      <td>2021-11-22</td>\n",
       "      <td>473.540009</td>\n",
       "      <td>467.350006</td>\n",
       "      <td>470.890015</td>\n",
       "      <td>467.570007</td>\n",
       "      <td>72762000.0</td>\n",
       "      <td>465.933075</td>\n",
       "      <td>-10490262.0</td>\n",
       "      <td>-72762000.0</td>\n",
       "      <td>-62271738.0</td>\n",
       "      <td>-127310300.0</td>\n",
       "    </tr>\n",
       "    <tr>\n",
       "      <th>4</th>\n",
       "      <td>2021-11-23</td>\n",
       "      <td>469.100006</td>\n",
       "      <td>464.450012</td>\n",
       "      <td>467.220001</td>\n",
       "      <td>468.190002</td>\n",
       "      <td>73206500.0</td>\n",
       "      <td>466.550903</td>\n",
       "      <td>-1982691.0</td>\n",
       "      <td>73206500.0</td>\n",
       "      <td>75189191.0</td>\n",
       "      <td>-54103800.0</td>\n",
       "    </tr>\n",
       "  </tbody>\n",
       "</table>\n",
       "</div>"
      ],
      "text/plain": [
       "        Date        High         Low        Open       Close      Volume  \\\n",
       "0 2021-11-17  469.190002  467.480011  469.000000  468.140015  47858300.0   \n",
       "1 2021-11-18  470.010010  466.339996  469.239990  469.730011  50625600.0   \n",
       "2 2021-11-19  470.940002  468.500000  469.609985  468.890015  57315600.0   \n",
       "3 2021-11-22  473.540009  467.350006  470.890015  467.570007  72762000.0   \n",
       "4 2021-11-23  469.100006  464.450012  467.220001  468.190002  73206500.0   \n",
       "\n",
       "    Adj Close  EOD_Vol_Tide  Directional_Volume  Volume_Diff  Vol_Adv_Dec  \n",
       "0  466.501099    -2972394.0         -47858300.0  -44885906.0  -47858300.0  \n",
       "1  468.085510     7571749.0          50625600.0   43053851.0    2767300.0  \n",
       "2  467.248474     3739474.0         -57315600.0  -61055074.0  -54548300.0  \n",
       "3  465.933075   -10490262.0         -72762000.0  -62271738.0 -127310300.0  \n",
       "4  466.550903    -1982691.0          73206500.0   75189191.0  -54103800.0  "
      ]
     },
     "execution_count": 34,
     "metadata": {},
     "output_type": "execute_result"
    }
   ],
   "source": [
    "data2_d.head()"
   ]
  },
  {
   "cell_type": "code",
   "execution_count": 35,
   "id": "c7abd75e-5cbd-4c46-9386-ab5fb29776e0",
   "metadata": {},
   "outputs": [
    {
     "data": {
      "text/plain": [
       "<AxesSubplot:>"
      ]
     },
     "execution_count": 35,
     "metadata": {},
     "output_type": "execute_result"
    },
    {
     "data": {
      "image/png": "[encoded data removed]",
      "text/plain": [
       "<Figure size 432x288 with 1 Axes>"
      ]
     },
     "metadata": {
      "needs_background": "light"
     },
     "output_type": "display_data"
    }
   ],
   "source": [
    "data2_d['Volume_Diff'].plot()"
   ]
  },
  {
   "cell_type": "code",
   "execution_count": 36,
   "id": "2ad442e0-71aa-4d2f-ab63-a5fc674080fb",
   "metadata": {},
   "outputs": [
    {
     "data": {
      "text/plain": [
       "<AxesSubplot:>"
      ]
     },
     "execution_count": 36,
     "metadata": {},
     "output_type": "execute_result"
    },
    {
     "data": {
      "image/png": "[encoded data removed]",
      "text/plain": [
       "<Figure size 432x288 with 1 Axes>"
      ]
     },
     "metadata": {
      "needs_background": "light"
     },
     "output_type": "display_data"
    }
   ],
   "source": [
    "data2_d['Volume_Diff'].cumsum().plot()"
   ]
  },
  {
   "cell_type": "code",
   "execution_count": 37,
   "id": "7fe42a13-ba43-4fd3-87b6-3d1f92ae5f9d",
   "metadata": {},
   "outputs": [
    {
     "data": {
      "text/plain": [
       "<AxesSubplot:>"
      ]
     },
     "execution_count": 37,
     "metadata": {},
     "output_type": "execute_result"
    },
    {
     "data": {
      "image/png": "[encoded data removed]",
      "text/plain": [
       "<Figure size 432x288 with 1 Axes>"
      ]
     },
     "metadata": {
      "needs_background": "light"
     },
     "output_type": "display_data"
    }
   ],
   "source": [
    "data2_d[['Volume_Diff', 'Directional_Volume']].cumsum().plot()"
   ]
  },
  {
   "cell_type": "code",
   "execution_count": 38,
   "id": "1de33f6a-c410-47c6-adae-e82e018945f8",
   "metadata": {},
   "outputs": [
    {
     "data": {
      "text/plain": [
       "<AxesSubplot:>"
      ]
     },
     "execution_count": 38,
     "metadata": {},
     "output_type": "execute_result"
    },
    {
     "data": {
      "image/png": "[encoded data removed]",
      "text/plain": [
       "<Figure size 432x288 with 1 Axes>"
      ]
     },
     "metadata": {
      "needs_background": "light"
     },
     "output_type": "display_data"
    }
   ],
   "source": [
    "data2_d['EOD_Vol_Tide'].cumsum().plot()"
   ]
  },
  {
   "cell_type": "code",
   "execution_count": 39,
   "id": "f14dbc13-d6fa-430d-9954-cb5b578ee3a6",
   "metadata": {},
   "outputs": [
    {
     "data": {
      "text/plain": [
       "<AxesSubplot:>"
      ]
     },
     "execution_count": 39,
     "metadata": {},
     "output_type": "execute_result"
    },
    {
     "data": {
      "image/png": "[encoded data removed]",
      "text/plain": [
       "<Figure size 432x288 with 1 Axes>"
      ]
     },
     "metadata": {
      "needs_background": "light"
     },
     "output_type": "display_data"
    }
   ],
   "source": [
    "data2_d['Vol_Adv_Dec'].plot()"
   ]
  },
  {
   "cell_type": "code",
   "execution_count": 40,
   "id": "e2160c69-659d-44c8-a70f-19faaee4c7c5",
   "metadata": {},
   "outputs": [
    {
     "data": {
      "text/html": [
       "<div>\n",
       "<style scoped>\n",
       "    .dataframe tbody tr th:only-of-type {\n",
       "        vertical-align: middle;\n",
       "    }\n",
       "\n",
       "    .dataframe tbody tr th {\n",
       "        vertical-align: top;\n",
       "    }\n",
       "\n",
       "    .dataframe thead th {\n",
       "        text-align: right;\n",
       "    }\n",
       "</style>\n",
       "<table border=\"1\" class=\"dataframe\">\n",
       "  <thead>\n",
       "    <tr style=\"text-align: right;\">\n",
       "      <th></th>\n",
       "      <th>Date</th>\n",
       "      <th>High</th>\n",
       "      <th>Low</th>\n",
       "      <th>Open</th>\n",
       "      <th>Close</th>\n",
       "      <th>Volume</th>\n",
       "      <th>Adj Close</th>\n",
       "      <th>EOD_Vol_Tide</th>\n",
       "      <th>Directional_Volume</th>\n",
       "      <th>Volume_Diff</th>\n",
       "      <th>Vol_Adv_Dec</th>\n",
       "    </tr>\n",
       "  </thead>\n",
       "  <tbody>\n",
       "    <tr>\n",
       "      <th>0</th>\n",
       "      <td>2021-11-17</td>\n",
       "      <td>469.190002</td>\n",
       "      <td>467.480011</td>\n",
       "      <td>469.000000</td>\n",
       "      <td>468.140015</td>\n",
       "      <td>47858300.0</td>\n",
       "      <td>466.501099</td>\n",
       "      <td>-2972394.0</td>\n",
       "      <td>-47858300.0</td>\n",
       "      <td>-44885906.0</td>\n",
       "      <td>-47858300.0</td>\n",
       "    </tr>\n",
       "    <tr>\n",
       "      <th>1</th>\n",
       "      <td>2021-11-18</td>\n",
       "      <td>470.010010</td>\n",
       "      <td>466.339996</td>\n",
       "      <td>469.239990</td>\n",
       "      <td>469.730011</td>\n",
       "      <td>50625600.0</td>\n",
       "      <td>468.085510</td>\n",
       "      <td>7571749.0</td>\n",
       "      <td>50625600.0</td>\n",
       "      <td>43053851.0</td>\n",
       "      <td>2767300.0</td>\n",
       "    </tr>\n",
       "    <tr>\n",
       "      <th>2</th>\n",
       "      <td>2021-11-19</td>\n",
       "      <td>470.940002</td>\n",
       "      <td>468.500000</td>\n",
       "      <td>469.609985</td>\n",
       "      <td>468.890015</td>\n",
       "      <td>57315600.0</td>\n",
       "      <td>467.248474</td>\n",
       "      <td>3739474.0</td>\n",
       "      <td>-57315600.0</td>\n",
       "      <td>-61055074.0</td>\n",
       "      <td>-54548300.0</td>\n",
       "    </tr>\n",
       "    <tr>\n",
       "      <th>3</th>\n",
       "      <td>2021-11-22</td>\n",
       "      <td>473.540009</td>\n",
       "      <td>467.350006</td>\n",
       "      <td>470.890015</td>\n",
       "      <td>467.570007</td>\n",
       "      <td>72762000.0</td>\n",
       "      <td>465.933075</td>\n",
       "      <td>-10490262.0</td>\n",
       "      <td>-72762000.0</td>\n",
       "      <td>-62271738.0</td>\n",
       "      <td>-127310300.0</td>\n",
       "    </tr>\n",
       "    <tr>\n",
       "      <th>4</th>\n",
       "      <td>2021-11-23</td>\n",
       "      <td>469.100006</td>\n",
       "      <td>464.450012</td>\n",
       "      <td>467.220001</td>\n",
       "      <td>468.190002</td>\n",
       "      <td>73206500.0</td>\n",
       "      <td>466.550903</td>\n",
       "      <td>-1982691.0</td>\n",
       "      <td>73206500.0</td>\n",
       "      <td>75189191.0</td>\n",
       "      <td>-54103800.0</td>\n",
       "    </tr>\n",
       "  </tbody>\n",
       "</table>\n",
       "</div>"
      ],
      "text/plain": [
       "        Date        High         Low        Open       Close      Volume  \\\n",
       "0 2021-11-17  469.190002  467.480011  469.000000  468.140015  47858300.0   \n",
       "1 2021-11-18  470.010010  466.339996  469.239990  469.730011  50625600.0   \n",
       "2 2021-11-19  470.940002  468.500000  469.609985  468.890015  57315600.0   \n",
       "3 2021-11-22  473.540009  467.350006  470.890015  467.570007  72762000.0   \n",
       "4 2021-11-23  469.100006  464.450012  467.220001  468.190002  73206500.0   \n",
       "\n",
       "    Adj Close  EOD_Vol_Tide  Directional_Volume  Volume_Diff  Vol_Adv_Dec  \n",
       "0  466.501099    -2972394.0         -47858300.0  -44885906.0  -47858300.0  \n",
       "1  468.085510     7571749.0          50625600.0   43053851.0    2767300.0  \n",
       "2  467.248474     3739474.0         -57315600.0  -61055074.0  -54548300.0  \n",
       "3  465.933075   -10490262.0         -72762000.0  -62271738.0 -127310300.0  \n",
       "4  466.550903    -1982691.0          73206500.0   75189191.0  -54103800.0  "
      ]
     },
     "execution_count": 40,
     "metadata": {},
     "output_type": "execute_result"
    }
   ],
   "source": [
    "data2_d.head()"
   ]
  },
  {
   "cell_type": "markdown",
   "id": "be619d5d-dddc-4e00-8052-667680f7578b",
   "metadata": {},
   "source": [
    "Make a copy of data2_d and then start to normalize the variables."
   ]
  },
  {
   "cell_type": "code",
   "execution_count": 41,
   "id": "46420abc-6a30-480f-9cd8-075025f54f81",
   "metadata": {},
   "outputs": [],
   "source": [
    "norm_data = data2_d.copy(deep=True)"
   ]
  },
  {
   "cell_type": "code",
   "execution_count": 42,
   "id": "9c257f05-7662-4a08-90b5-8ac8e28cbc50",
   "metadata": {},
   "outputs": [
    {
     "data": {
      "text/plain": [
       "-843468.9666666667"
      ]
     },
     "execution_count": 42,
     "metadata": {},
     "output_type": "execute_result"
    }
   ],
   "source": [
    "norm_data.EOD_Vol_Tide.mean()"
   ]
  },
  {
   "cell_type": "code",
   "execution_count": 43,
   "id": "99b10352-f656-447f-8d6c-e9a84dc23c68",
   "metadata": {},
   "outputs": [
    {
     "data": {
      "text/plain": [
       "-843468.9666666667"
      ]
     },
     "execution_count": 43,
     "metadata": {},
     "output_type": "execute_result"
    }
   ],
   "source": [
    "norm_data.EOD_Vol_Tide.mean()"
   ]
  },
  {
   "cell_type": "markdown",
   "id": "0b937815-1413-4e51-9c70-c47135558930",
   "metadata": {},
   "source": [
    "Normalizing by the mean is ineffective because the mean of the volume \n",
    "columns is close to zero. \n",
    "This is because we have close to a normal distribution with a center of 0."
   ]
  },
  {
   "cell_type": "code",
   "execution_count": 44,
   "id": "d83e403e-89db-4289-8676-3d341c7af008",
   "metadata": {},
   "outputs": [
    {
     "data": {
      "text/plain": [
       "<AxesSubplot:>"
      ]
     },
     "execution_count": 44,
     "metadata": {},
     "output_type": "execute_result"
    },
    {
     "data": {
      "image/png": "[encoded data removed]",
      "text/plain": [
       "<Figure size 432x288 with 1 Axes>"
      ]
     },
     "metadata": {
      "needs_background": "light"
     },
     "output_type": "display_data"
    }
   ],
   "source": [
    "norm_data.EOD_Vol_Tide.hist()"
   ]
  },
  {
   "cell_type": "code",
   "execution_count": 45,
   "id": "25c2570e-d46e-4d94-8347-7263683c1b58",
   "metadata": {},
   "outputs": [],
   "source": [
    "cols_to_normalize = ['EOD_Vol_Tide', 'Directional_Volume', 'Vol_Adv_Dec', 'Volume_Diff']\n",
    "for col in cols_to_normalize:\n",
    "    norm_data[col] = data_utils.min_max_normalize(norm_data[col], -3, 3)"
   ]
  },
  {
   "cell_type": "code",
   "execution_count": 46,
   "id": "81aff6a9-f956-41d9-9726-d3e2b280f334",
   "metadata": {},
   "outputs": [
    {
     "data": {
      "text/html": [
       "<div>\n",
       "<style scoped>\n",
       "    .dataframe tbody tr th:only-of-type {\n",
       "        vertical-align: middle;\n",
       "    }\n",
       "\n",
       "    .dataframe tbody tr th {\n",
       "        vertical-align: top;\n",
       "    }\n",
       "\n",
       "    .dataframe thead th {\n",
       "        text-align: right;\n",
       "    }\n",
       "</style>\n",
       "<table border=\"1\" class=\"dataframe\">\n",
       "  <thead>\n",
       "    <tr style=\"text-align: right;\">\n",
       "      <th></th>\n",
       "      <th>Date</th>\n",
       "      <th>High</th>\n",
       "      <th>Low</th>\n",
       "      <th>Open</th>\n",
       "      <th>Close</th>\n",
       "      <th>Volume</th>\n",
       "      <th>Adj Close</th>\n",
       "      <th>EOD_Vol_Tide</th>\n",
       "      <th>Directional_Volume</th>\n",
       "      <th>Volume_Diff</th>\n",
       "      <th>Vol_Adv_Dec</th>\n",
       "    </tr>\n",
       "  </thead>\n",
       "  <tbody>\n",
       "    <tr>\n",
       "      <th>0</th>\n",
       "      <td>2021-11-17</td>\n",
       "      <td>469.190002</td>\n",
       "      <td>467.480011</td>\n",
       "      <td>469.000000</td>\n",
       "      <td>468.140015</td>\n",
       "      <td>47858300.0</td>\n",
       "      <td>466.501099</td>\n",
       "      <td>-0.057482</td>\n",
       "      <td>-0.959549</td>\n",
       "      <td>-0.938249</td>\n",
       "      <td>0.143689</td>\n",
       "    </tr>\n",
       "    <tr>\n",
       "      <th>1</th>\n",
       "      <td>2021-11-18</td>\n",
       "      <td>470.010010</td>\n",
       "      <td>466.339996</td>\n",
       "      <td>469.239990</td>\n",
       "      <td>469.730011</td>\n",
       "      <td>50625600.0</td>\n",
       "      <td>468.085510</td>\n",
       "      <td>0.881781</td>\n",
       "      <td>0.341843</td>\n",
       "      <td>0.367080</td>\n",
       "      <td>0.559689</td>\n",
       "    </tr>\n",
       "    <tr>\n",
       "      <th>2</th>\n",
       "      <td>2021-11-19</td>\n",
       "      <td>470.940002</td>\n",
       "      <td>468.500000</td>\n",
       "      <td>469.609985</td>\n",
       "      <td>468.890015</td>\n",
       "      <td>57315600.0</td>\n",
       "      <td>467.248474</td>\n",
       "      <td>0.540405</td>\n",
       "      <td>-1.084520</td>\n",
       "      <td>-1.178256</td>\n",
       "      <td>0.088716</td>\n",
       "    </tr>\n",
       "    <tr>\n",
       "      <th>3</th>\n",
       "      <td>2021-11-22</td>\n",
       "      <td>473.540009</td>\n",
       "      <td>467.350006</td>\n",
       "      <td>470.890015</td>\n",
       "      <td>467.570007</td>\n",
       "      <td>72762000.0</td>\n",
       "      <td>465.933075</td>\n",
       "      <td>-0.727166</td>\n",
       "      <td>-1.288632</td>\n",
       "      <td>-1.196315</td>\n",
       "      <td>-0.509183</td>\n",
       "    </tr>\n",
       "    <tr>\n",
       "      <th>4</th>\n",
       "      <td>2021-11-23</td>\n",
       "      <td>469.100006</td>\n",
       "      <td>464.450012</td>\n",
       "      <td>467.220001</td>\n",
       "      <td>468.190002</td>\n",
       "      <td>73206500.0</td>\n",
       "      <td>466.550903</td>\n",
       "      <td>0.030680</td>\n",
       "      <td>0.640233</td>\n",
       "      <td>0.844080</td>\n",
       "      <td>0.092369</td>\n",
       "    </tr>\n",
       "  </tbody>\n",
       "</table>\n",
       "</div>"
      ],
      "text/plain": [
       "        Date        High         Low        Open       Close      Volume  \\\n",
       "0 2021-11-17  469.190002  467.480011  469.000000  468.140015  47858300.0   \n",
       "1 2021-11-18  470.010010  466.339996  469.239990  469.730011  50625600.0   \n",
       "2 2021-11-19  470.940002  468.500000  469.609985  468.890015  57315600.0   \n",
       "3 2021-11-22  473.540009  467.350006  470.890015  467.570007  72762000.0   \n",
       "4 2021-11-23  469.100006  464.450012  467.220001  468.190002  73206500.0   \n",
       "\n",
       "    Adj Close  EOD_Vol_Tide  Directional_Volume  Volume_Diff  Vol_Adv_Dec  \n",
       "0  466.501099     -0.057482           -0.959549    -0.938249     0.143689  \n",
       "1  468.085510      0.881781            0.341843     0.367080     0.559689  \n",
       "2  467.248474      0.540405           -1.084520    -1.178256     0.088716  \n",
       "3  465.933075     -0.727166           -1.288632    -1.196315    -0.509183  \n",
       "4  466.550903      0.030680            0.640233     0.844080     0.092369  "
      ]
     },
     "execution_count": 46,
     "metadata": {},
     "output_type": "execute_result"
    }
   ],
   "source": [
    "norm_data.head()"
   ]
  },
  {
   "cell_type": "code",
   "execution_count": 47,
   "id": "c414e0f3-d4f2-4c14-8e24-67b09c89738b",
   "metadata": {},
   "outputs": [
    {
     "data": {
      "text/plain": [
       "<module 'mlUtilities.data_utils' from '/home/gsandoval/Documents/Classes/depaul/ML_Programming/Project/MLProgramming/mlUtilities/data_utils.py'>"
      ]
     },
     "execution_count": 47,
     "metadata": {},
     "output_type": "execute_result"
    }
   ],
   "source": [
    "reload(data_utils)"
   ]
  },
  {
   "cell_type": "code",
   "execution_count": 48,
   "id": "920fba65-ea4d-4538-878d-77baa5eec88e",
   "metadata": {},
   "outputs": [],
   "source": [
    "norm_data['Norm_Vol_Diff'] = norm_data.Vol_Adv_Dec - norm_data.EOD_Vol_Tide"
   ]
  },
  {
   "cell_type": "code",
   "execution_count": 49,
   "id": "47417c74-fd88-493b-b376-4819f1d80fb6",
   "metadata": {},
   "outputs": [
    {
     "data": {
      "text/plain": [
       "<AxesSubplot:>"
      ]
     },
     "execution_count": 49,
     "metadata": {},
     "output_type": "execute_result"
    },
    {
     "data": {
      "image/png": "[encoded data removed]",
      "text/plain": [
       "<Figure size 432x288 with 1 Axes>"
      ]
     },
     "metadata": {
      "needs_background": "light"
     },
     "output_type": "display_data"
    }
   ],
   "source": [
    "norm_data[['Norm_Vol_Diff', 'Volume_Diff']].plot()"
   ]
  },
  {
   "cell_type": "markdown",
   "id": "356b62a4-231f-4c9b-a8f9-76f65783779f",
   "metadata": {},
   "source": [
    "- Next I need to create the pct change columns. \n",
    "\n",
    "- Select my target variable \n",
    "\n",
    "- Apply the class transform to my target variable\n",
    "\n",
    "- Run naive bayes on the final dataframe"
   ]
  },
  {
   "cell_type": "code",
   "execution_count": null,
   "id": "f561da60-bf8a-4edf-96f5-fc0181c660fb",
   "metadata": {},
   "outputs": [],
   "source": []
  },
  {
   "cell_type": "code",
   "execution_count": null,
   "id": "3ba2c8c7-8b9d-438c-8350-81b7f4f4c014",
   "metadata": {},
   "outputs": [],
   "source": []
  }
 ],
 "metadata": {
  "kernelspec": {
   "display_name": "Python 3 (ipykernel)",
   "language": "python",
   "name": "python3"
  },
  "language_info": {
   "codemirror_mode": {
    "name": "ipython",
    "version": 3
   },
   "file_extension": ".py",
   "mimetype": "text/x-python",
   "name": "python",
   "nbconvert_exporter": "python",
   "pygments_lexer": "ipython3",
   "version": "3.10.2"
  }
 },
 "nbformat": 4,
 "nbformat_minor": 5
}
